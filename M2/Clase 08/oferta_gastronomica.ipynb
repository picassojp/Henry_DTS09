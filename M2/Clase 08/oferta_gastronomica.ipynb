{
 "cells": [
  {
   "cell_type": "code",
   "execution_count": null,
   "metadata": {},
   "outputs": [],
   "source": [
    "import requests\n",
    "import pymysql\n",
    "from io import StringIO\n",
    "import csv\n",
    "\n",
    "bajada = requests.get('https://cdn.buenosaires.gob.ar/datosabiertos/datasets/ente-de-turismo/oferta-establecimientos-gastronomicos/oferta_gastronomica.csv')\n",
    "bajada.encoding = 'utf-8'\n",
    "bajada = bajada.text\n",
    "documento = csv.reader(StringIO(bajada))\n",
    "next(documento)\n",
    "locales = [(linea[3], linea[4], linea[13], linea[14], linea[15][7:]) for linea in documento]"
   ]
  },
  {
   "cell_type": "code",
   "execution_count": null,
   "metadata": {},
   "outputs": [],
   "source": [
    "conexion = pymysql.connect(\n",
    "   host='localhost',\n",
    "   database='',\n",
    "   user='root',\n",
    "   password=''\n",
    ")\n",
    "cursor = conexion.cursor()\n",
    "cursor.execute(\"TRUNCATE TABLE oferta_gastronomica\")\n",
    "query = 'INSERT INTO oferta_gastronomica (nombre, categoria, direccion, barrio, comuna) VALUES(%s,%s,%s,%s,%s)'\n",
    "cursor.executemany(query, locales)\n",
    "conexion.commit()\n",
    "conexion.close()"
   ]
  }
 ],
 "metadata": {
  "kernelspec": {
   "display_name": "Python 3",
   "language": "python",
   "name": "python3"
  },
  "language_info": {
   "codemirror_mode": {
    "name": "ipython",
    "version": 3
   },
   "file_extension": ".py",
   "mimetype": "text/x-python",
   "name": "python",
   "nbconvert_exporter": "python",
   "pygments_lexer": "ipython3",
   "version": "3.10.6"
  },
  "orig_nbformat": 4,
  "vscode": {
   "interpreter": {
    "hash": "e3449e78b622b499c4f9a823e829fe6a616fd6890b59f6c67d5ce505c45100f8"
   }
  }
 },
 "nbformat": 4,
 "nbformat_minor": 2
}
