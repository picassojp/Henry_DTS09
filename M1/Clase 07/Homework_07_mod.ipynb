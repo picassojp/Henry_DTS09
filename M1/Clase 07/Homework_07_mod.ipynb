{
 "cells": [
  {
   "cell_type": "markdown",
   "metadata": {},
   "source": [
    "# Práctica Clase 7"
   ]
  },
  {
   "cell_type": "markdown",
   "metadata": {},
   "source": [
    "1) Diseñar una clase que permita trabajar con un árbol binario y que contenga los métodos:<br>\n",
    "    * insertaVal: para insertar un dato<br>\n",
    "    * buscaVal: que devuelva True o False si existe o no un dato<br>\n",
    "    * verVal: que imprima por pantalla los valores del árbol<br>\n",
    "\n",
    "Nota: Se puede utilizar la recursividad\n"
   ]
  },
  {
   "cell_type": "code",
   "execution_count": 1,
   "metadata": {},
   "outputs": [],
   "source": [
    "class Nodo():\n",
    "    def __init__(self, dato):\n",
    "        self.dato = dato\n",
    "        self.izq = None\n",
    "        self.der = None\n",
    "\n",
    "    def insertVal(self, dato):\n",
    "        if dato < self.dato:\n",
    "            if self.izq == None:\n",
    "                self.izq = Nodo(dato)\n",
    "            else:\n",
    "                self.izq.insertVal(dato)\n",
    "        elif dato > self.dato:\n",
    "            if self.der == None:\n",
    "                self.der = Nodo(dato)\n",
    "            else:\n",
    "                self.der.insertVal(dato)\n",
    "        else:\n",
    "            print(\"Valor repetido\")\n"
   ]
  },
  {
   "attachments": {},
   "cell_type": "markdown",
   "metadata": {},
   "source": [
    "## 1° opción"
   ]
  },
  {
   "cell_type": "code",
   "execution_count": 2,
   "metadata": {},
   "outputs": [],
   "source": [
    "class Nodo():\n",
    "    def __init__(self, dato):\n",
    "        self.dato = dato\n",
    "        self.izq = None\n",
    "        self.der = None\n",
    "\n",
    "    def insertVal(self, dato):\n",
    "        if dato < self.dato:\n",
    "            if self.izq == None:\n",
    "                self.izq = Nodo(dato)\n",
    "            else:\n",
    "                self.izq.insertVal(dato)\n",
    "        elif dato > self.dato:\n",
    "            if self.der == None:\n",
    "                self.der = Nodo(dato)\n",
    "            else:\n",
    "                self.der.insertVal(dato)\n",
    "        else:\n",
    "            print(\"Valor repetido\")\n",
    "    \n",
    "    def buscaVal(self, dato1):\n",
    "        if dato1 == self.dato:\n",
    "            return True\n",
    "        \n",
    "        elif dato1 < self.dato:\n",
    "            if self.izq != None:\n",
    "                print('izq')\n",
    "                return self.izq.buscaVal(dato1)\n",
    "            else:\n",
    "                print('nulo izq')\n",
    "                return False\n",
    "        elif dato1 > self.dato:\n",
    "            if self.der != None:\n",
    "                print('der')\n",
    "                return self.der.buscaVal(dato1)\n",
    "            else:\n",
    "                print('nulo der')\n",
    "                return False\n",
    "        "
   ]
  },
  {
   "cell_type": "code",
   "execution_count": 3,
   "metadata": {},
   "outputs": [],
   "source": [
    "a = Nodo(2)\n",
    "a.insertVal(5)\n",
    "a.insertVal(7)\n",
    "a.insertVal(1)"
   ]
  },
  {
   "cell_type": "code",
   "execution_count": 7,
   "metadata": {},
   "outputs": [
    {
     "name": "stdout",
     "output_type": "stream",
     "text": [
      "izq\n"
     ]
    },
    {
     "data": {
      "text/plain": [
       "True"
      ]
     },
     "execution_count": 7,
     "metadata": {},
     "output_type": "execute_result"
    }
   ],
   "source": [
    "a.buscaVal(1)"
   ]
  },
  {
   "attachments": {},
   "cell_type": "markdown",
   "metadata": {},
   "source": [
    "## 2° opción\n",
    "Menor verbosidad que la 1° opción"
   ]
  },
  {
   "cell_type": "code",
   "execution_count": 8,
   "metadata": {},
   "outputs": [],
   "source": [
    "class Nodo():\n",
    "    def __init__(self, dato):\n",
    "        self.dato = dato\n",
    "        self.izq = None\n",
    "        self.der = None\n",
    "\n",
    "    def insertVal(self, dato):\n",
    "        if dato < self.dato:\n",
    "            if self.izq == None:\n",
    "                self.izq = Nodo(dato)\n",
    "            else:\n",
    "                self.izq.insertVal(dato)\n",
    "        elif dato > self.dato:\n",
    "            if self.der == None:\n",
    "                self.der = Nodo(dato)\n",
    "            else:\n",
    "                self.der.insertVal(dato)\n",
    "        else:\n",
    "            print(\"Valor repetido\")\n",
    "    \n",
    "    def buscaVal(self, dato1):\n",
    "        if dato1 == self.dato:\n",
    "            return True\n",
    "        elif dato1 < self.dato and self.izq != None:\n",
    "            print('izq')\n",
    "            return self.izq.buscaVal(dato1)\n",
    "        elif dato1 > self.dato and self.der != None:\n",
    "            print('der')\n",
    "            return self.der.buscaVal(dato1)\n",
    "        else:\n",
    "            return False"
   ]
  },
  {
   "cell_type": "code",
   "execution_count": 9,
   "metadata": {},
   "outputs": [],
   "source": [
    "a = Nodo(2)\n",
    "a.insertVal(5)\n",
    "a.insertVal(7)\n",
    "a.insertVal(1)"
   ]
  },
  {
   "cell_type": "code",
   "execution_count": 10,
   "metadata": {},
   "outputs": [
    {
     "name": "stdout",
     "output_type": "stream",
     "text": [
      "Valor repetido\n"
     ]
    }
   ],
   "source": [
    "a.insertVal(1)"
   ]
  },
  {
   "cell_type": "code",
   "execution_count": 12,
   "metadata": {},
   "outputs": [
    {
     "name": "stdout",
     "output_type": "stream",
     "text": [
      "der\n",
      "der\n"
     ]
    },
    {
     "data": {
      "text/plain": [
       "False"
      ]
     },
     "execution_count": 12,
     "metadata": {},
     "output_type": "execute_result"
    }
   ],
   "source": [
    "a.buscaVal(9)"
   ]
  },
  {
   "cell_type": "code",
   "execution_count": 33,
   "metadata": {},
   "outputs": [],
   "source": [
    "class Nodo():\n",
    "    def __init__(self, dato):\n",
    "        self.dato = dato\n",
    "        self.izq = None\n",
    "        self.der = None\n",
    "        self.vals = [dato]\n",
    "\n",
    "    def insertVal(self, dato):\n",
    "        if dato < self.dato:\n",
    "            if self.izq == None:\n",
    "                self.izq = Nodo(dato)\n",
    "                self.vals.append(dato)\n",
    "            else:\n",
    "                self.izq.insertVal(dato)\n",
    "        elif dato > self.dato:\n",
    "            if self.der == None:\n",
    "                self.der = Nodo(dato)\n",
    "                self.vals.append(dato)\n",
    "            else:\n",
    "                self.der.insertVal(dato)\n",
    "        else:\n",
    "            print(\"Valor repetido\")\n",
    "    \n",
    "    def buscaVal(self, dato1):\n",
    "        if dato1 == self.dato:\n",
    "            return True\n",
    "        elif dato1 < self.dato and self.izq != None:\n",
    "            print('izq')\n",
    "            return self.izq.buscaVal(dato1)\n",
    "        elif dato1 > self.dato and self.der != None:\n",
    "            print('der')\n",
    "            return self.der.buscaVal(dato1)\n",
    "        else:\n",
    "            return False\n",
    "       \n",
    "    def verVal(self):\n",
    "        print(self.dato)\n",
    "        if self.der != None:\n",
    "            self.der.verVal()\n",
    "        if self.izq != None:\n",
    "            self.izq.verVal()\n",
    "        \n",
    "        # else:\n",
    "        #     return "
   ]
  },
  {
   "cell_type": "code",
   "execution_count": 34,
   "metadata": {},
   "outputs": [],
   "source": [
    "a = Nodo(2)\n",
    "a.insertVal(5)\n",
    "a.insertVal(7)\n",
    "a.insertVal(1)"
   ]
  },
  {
   "cell_type": "code",
   "execution_count": 35,
   "metadata": {},
   "outputs": [
    {
     "name": "stdout",
     "output_type": "stream",
     "text": [
      "2\n",
      "5\n",
      "7\n",
      "1\n"
     ]
    }
   ],
   "source": [
    "a.verVal()"
   ]
  }
 ],
 "metadata": {
  "kernelspec": {
   "display_name": "Python 3",
   "language": "python",
   "name": "python3"
  },
  "language_info": {
   "codemirror_mode": {
    "name": "ipython",
    "version": 3
   },
   "file_extension": ".py",
   "mimetype": "text/x-python",
   "name": "python",
   "nbconvert_exporter": "python",
   "pygments_lexer": "ipython3",
   "version": "3.10.6"
  },
  "vscode": {
   "interpreter": {
    "hash": "e3449e78b622b499c4f9a823e829fe6a616fd6890b59f6c67d5ce505c45100f8"
   }
  }
 },
 "nbformat": 4,
 "nbformat_minor": 4
}
