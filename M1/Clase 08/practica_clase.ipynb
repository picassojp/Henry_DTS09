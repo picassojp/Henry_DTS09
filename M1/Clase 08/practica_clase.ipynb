{
 "cells": [
  {
   "cell_type": "code",
   "execution_count": 1,
   "metadata": {},
   "outputs": [
    {
     "data": {
      "text/plain": [
       "[1, 2, 3, 4, 5, 6, 7, 8, 9, 10, 11, 12, 13, 14, 15, 16]"
      ]
     },
     "execution_count": 1,
     "metadata": {},
     "output_type": "execute_result"
    }
   ],
   "source": [
    "secuencia = list(range(1,17))\n",
    "secuencia"
   ]
  },
  {
   "cell_type": "code",
   "execution_count": 2,
   "metadata": {},
   "outputs": [
    {
     "data": {
      "text/plain": [
       "[15, 17, 1, 16, 20, 3, 19, 12, 14, 4, 5, 18, 2, 9, 13, 6, 10, 11, 8, 7]"
      ]
     },
     "execution_count": 2,
     "metadata": {},
     "output_type": "execute_result"
    }
   ],
   "source": [
    "from random import sample\n",
    "azar  = sample(range(1,21), 20)\n",
    "azar"
   ]
  },
  {
   "cell_type": "code",
   "execution_count": null,
   "metadata": {},
   "outputs": [],
   "source": [
    "# O(N)\n",
    "maximo = azar[0]\n",
    "for num in azar:\n",
    "   if num > maximo: maximo = num\n",
    "\n",
    "print(maximo)"
   ]
  },
  {
   "cell_type": "code",
   "execution_count": null,
   "metadata": {},
   "outputs": [],
   "source": [
    "#O (2N)\n",
    "maximo = azar[0]\n",
    "for num in azar:\n",
    "   if num > maximo: maximo = num\n",
    "\n",
    "minimo = azar[0]\n",
    "for num in azar:\n",
    "   if num < minimo: minimo = num\n",
    "\n",
    "print(maximo)\n",
    "print(minimo)"
   ]
  },
  {
   "cell_type": "code",
   "execution_count": null,
   "metadata": {},
   "outputs": [],
   "source": [
    "maximo = azar[0]\n",
    "minimo = azar[0]\n",
    "for num in azar:\n",
    "   if num > maximo: maximo = num\n",
    "   if num < minimo: minimo = num\n",
    "\n",
    "print(maximo)\n",
    "print(minimo)"
   ]
  },
  {
   "cell_type": "code",
   "execution_count": null,
   "metadata": {},
   "outputs": [],
   "source": [
    "#O(1)\n",
    "a = 6\n",
    "#O(N**2)\n",
    "matriz = [[1,2,3],[4,5,6],[7,8,9]]\n",
    "for fila in matriz:\n",
    "   for num in fila:\n",
    "      print(num)"
   ]
  },
  {
   "cell_type": "code",
   "execution_count": null,
   "metadata": {},
   "outputs": [],
   "source": [
    "#!a\n",
    "a*5*4*3*2*1"
   ]
  }
 ],
 "metadata": {
  "kernelspec": {
   "display_name": "Python 3",
   "language": "python",
   "name": "python3"
  },
  "language_info": {
   "codemirror_mode": {
    "name": "ipython",
    "version": 3
   },
   "file_extension": ".py",
   "mimetype": "text/x-python",
   "name": "python",
   "nbconvert_exporter": "python",
   "pygments_lexer": "ipython3",
   "version": "3.10.6 (tags/v3.10.6:9c7b4bd, Aug  1 2022, 21:53:49) [MSC v.1932 64 bit (AMD64)]"
  },
  "orig_nbformat": 4,
  "vscode": {
   "interpreter": {
    "hash": "e3449e78b622b499c4f9a823e829fe6a616fd6890b59f6c67d5ce505c45100f8"
   }
  }
 },
 "nbformat": 4,
 "nbformat_minor": 2
}
