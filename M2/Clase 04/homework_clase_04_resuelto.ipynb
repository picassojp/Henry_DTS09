{
 "cells": [
  {
   "cell_type": "code",
   "execution_count": null,
   "metadata": {},
   "outputs": [],
   "source": [
    "from math import e, factorial"
   ]
  },
  {
   "cell_type": "code",
   "execution_count": null,
   "metadata": {},
   "outputs": [],
   "source": [
    "#DISTRIBUCIÓN BINOMIAL\n",
    "def funcion_binomial(k,n,p):\n",
    "  num_exitos = factorial(n) \n",
    "  num_eventos = factorial (k) * factorial(n-k) \n",
    "  exitos_fracaso = pow(p,k) * pow(1-p,(n-k)) \n",
    "  binomial = (num_exitos / num_eventos) * exitos_fracaso\n",
    "  return binomial"
   ]
  },
  {
   "cell_type": "code",
   "execution_count": null,
   "metadata": {},
   "outputs": [],
   "source": [
    "#DISTRIBUCIÓN DE POISSON\n",
    "def probabilidad_poisson(lamba_np,x):\n",
    "     probabilidad = (pow(e,-lamba_np) * pow(lamba_np,x))/factorial(x)\n",
    "     return probabilidad"
   ]
  },
  {
   "cell_type": "code",
   "execution_count": null,
   "metadata": {},
   "outputs": [],
   "source": [
    "#DISTRIBUCIÓN HIPERGEOMÉTRICA\n",
    "def probabilidad_hipergeometrica(N,X,n,x):\n",
    "  Xx = factorial(X)/(factorial(x)*factorial(X-x))\n",
    "  NX_nx= factorial(N-X)/(factorial(n-x)*factorial((N-X)-(n-x)))\n",
    "  Nn = factorial(N)/(factorial(n)*factorial(N-n))\n",
    "  hipergeometrica = (Xx * NX_nx)/Nn\n",
    "\n",
    "  return hipergeometrica"
   ]
  },
  {
   "attachments": {},
   "cell_type": "markdown",
   "metadata": {},
   "source": [
    "#1\n",
    "t = tiempo en minutos requerido para armar el producto\n",
    "cualquier valor mayor a 0 (1, ∞)\n",
    "Tiempo en continuo, pero puedo discretizarla para el análisis"
   ]
  },
  {
   "attachments": {},
   "cell_type": "markdown",
   "metadata": {},
   "source": [
    "#2\n",
    "Resultados posibles:\n",
    "1.H,H\n",
    "2.H,T\n",
    "3.T,H\n",
    "4.T,T\n",
    "\n",
    "c = cantidad de caras en los 2 lanzamientos\n",
    "\n",
    "1.H,H 2\n",
    "2.H,T 1\n",
    "3.T,H 1\n",
    "4.T,T 0\n",
    "\n",
    "puede tomar valores: 0, 1 o 2\n",
    "variable discreta"
   ]
  },
  {
   "cell_type": "code",
   "execution_count": null,
   "metadata": {},
   "outputs": [],
   "source": [
    "#3\n",
    "#Sí, cunple con las reglas para un experimento binomial\n",
    "#print(funcion_binomial(2,3,0.3))\n",
    "print(funcion_binomial(4,10,0.3))"
   ]
  },
  {
   "cell_type": "code",
   "execution_count": null,
   "metadata": {},
   "outputs": [],
   "source": [
    "#4\n",
    "#print(probabilidad_poisson(4, 5)) #a primer argumento: 48 en 60 minutos, 5: 5*48/60\n",
    "#print(probabilidad_poisson(12, 10))\n",
    "\n",
    "#Dada la tasa de llamados, se espera que haya 4 llamados en cola (em promedio)\n",
    "\n",
    "#print(probabilidad_poisson(4, 0))\n",
    "print(probabilidad_poisson(2.4, 0))"
   ]
  },
  {
   "cell_type": "code",
   "execution_count": null,
   "metadata": {},
   "outputs": [],
   "source": [
    "#5\n",
    "#print(probabilidad_hipergeometrica(10, 7, 3, 2))\n",
    "#print(probabilidad_hipergeometrica(10, 7, 3, 2) + probabilidad_hipergeometrica(10, 7, 3, 3))\n",
    "1 - probabilidad_hipergeometrica(10, 7, 3, 0) - probabilidad_hipergeometrica(10, 7, 3, 1)\n"
   ]
  },
  {
   "cell_type": "code",
   "execution_count": null,
   "metadata": {},
   "outputs": [],
   "source": [
    "#6\n",
    "print(funcion_binomial(6,10,0.7))"
   ]
  },
  {
   "cell_type": "code",
   "execution_count": null,
   "metadata": {},
   "outputs": [],
   "source": [
    "#7\n",
    "print(funcion_binomial(7, 9, 0.9))"
   ]
  },
  {
   "cell_type": "code",
   "execution_count": null,
   "metadata": {},
   "outputs": [],
   "source": [
    "#8\n",
    "print(funcion_binomial(7, 9, 0.9) + funcion_binomial(8, 9, 0.9) + funcion_binomial(9, 9, 0.9))"
   ]
  },
  {
   "cell_type": "code",
   "execution_count": null,
   "metadata": {},
   "outputs": [],
   "source": [
    "#9\n",
    "print(probabilidad_poisson(10, 7))"
   ]
  },
  {
   "cell_type": "code",
   "execution_count": null,
   "metadata": {},
   "outputs": [],
   "source": [
    "#10\n",
    "print(probabilidad_poisson(5, 7))"
   ]
  },
  {
   "cell_type": "code",
   "execution_count": null,
   "metadata": {},
   "outputs": [],
   "source": [
    "#11\n",
    "print(probabilidad_poisson(20, 15))"
   ]
  },
  {
   "cell_type": "code",
   "execution_count": null,
   "metadata": {},
   "outputs": [],
   "source": [
    "#12\n",
    "print(1 - probabilidad_poisson(3,0))"
   ]
  },
  {
   "cell_type": "code",
   "execution_count": 31,
   "metadata": {},
   "outputs": [
    {
     "name": "stdout",
     "output_type": "stream",
     "text": [
      "0.48\n"
     ]
    }
   ],
   "source": [
    "#13\n",
    "x = 90\n",
    "mu = 78\n",
    "sigma = 25\n",
    "\n",
    "z = (x-mu) / sigma\n",
    "print(z)\n",
    "#Probabilidad  = 0.3156"
   ]
  }
 ],
 "metadata": {
  "kernelspec": {
   "display_name": "Python 3",
   "language": "python",
   "name": "python3"
  },
  "language_info": {
   "codemirror_mode": {
    "name": "ipython",
    "version": 3
   },
   "file_extension": ".py",
   "mimetype": "text/x-python",
   "name": "python",
   "nbconvert_exporter": "python",
   "pygments_lexer": "ipython3",
   "version": "3.10.8"
  },
  "orig_nbformat": 4,
  "vscode": {
   "interpreter": {
    "hash": "25b967826fee24da2569b50746cf9fa4067dc6cfa635a17c8da9080146180dfa"
   }
  }
 },
 "nbformat": 4,
 "nbformat_minor": 2
}
