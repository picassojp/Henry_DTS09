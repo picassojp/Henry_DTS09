{
 "cells": [
  {
   "cell_type": "code",
   "execution_count": null,
   "metadata": {},
   "outputs": [],
   "source": [
    "import pymysql"
   ]
  },
  {
   "cell_type": "code",
   "execution_count": null,
   "metadata": {},
   "outputs": [],
   "source": [
    "conexion = pymysql.connect(\n",
    "   host='localhost',\n",
    "   user='root',\n",
    "   passwd='',\n",
    "   db=''   \n",
    ")\n",
    "cursor = conexion.cursor()"
   ]
  },
  {
   "attachments": {},
   "cell_type": "markdown",
   "metadata": {},
   "source": [
    "Trer reguistros"
   ]
  },
  {
   "cell_type": "code",
   "execution_count": null,
   "metadata": {},
   "outputs": [],
   "source": [
    "cursor.execute('SELECT * FROM alumno')\n",
    "#alumnos = cursor.fetchall() #Tupla de tuplas con todos los registros\n",
    "#alumno = cursor.fetchone() #Me trae el primer registro\n",
    "#alumnos = cursor.fetchmany(5) #Tupla de los registros pedidos\n",
    "for fila in cursor:\n",
    "   print(fila)\n",
    "   break"
   ]
  },
  {
   "attachments": {},
   "cell_type": "markdown",
   "metadata": {},
   "source": [
    "Insertar registros"
   ]
  },
  {
   "cell_type": "code",
   "execution_count": null,
   "metadata": {},
   "outputs": [],
   "source": [
    "cursor.execute(\"INSERT INTO persona (Nombre, Edad) VALUES ('Roberto', 41)\")"
   ]
  },
  {
   "cell_type": "code",
   "execution_count": null,
   "metadata": {},
   "outputs": [],
   "source": [
    "nombre = 'Josefina'\n",
    "edad = 25\n",
    "cursor.execute(\"INSERT INTO persona (Nombre, Edad) VALUES (%s,%s)\", (nombre, edad))"
   ]
  },
  {
   "cell_type": "code",
   "execution_count": null,
   "metadata": {},
   "outputs": [],
   "source": [
    "nombre = input(\"¿Cuál es tu nombre?: \")\n",
    "edad = int(input(\"¿Cuál es tu edad?: \"))\n",
    "cursor.execute(\"INSERT INTO persona (Nombre, Edad) VALUES (%s,%s)\", (nombre, edad))"
   ]
  },
  {
   "cell_type": "code",
   "execution_count": null,
   "metadata": {},
   "outputs": [],
   "source": [
    "personas = [\n",
    "   ('Jimena', 31),\n",
    "   ('Alberto', 42),\n",
    "   ('Estela', 32)\n",
    "]\n",
    "cursor.executemany(\"INSERT INTO persona (Nombre, Edad) VALUES (%s,%s)\", personas)"
   ]
  },
  {
   "cell_type": "code",
   "execution_count": null,
   "metadata": {},
   "outputs": [],
   "source": [
    "conexion.commit()"
   ]
  },
  {
   "cell_type": "code",
   "execution_count": null,
   "metadata": {},
   "outputs": [],
   "source": [
    "conexion.rollback() #Para no ejecturar la inserción"
   ]
  },
  {
   "cell_type": "code",
   "execution_count": null,
   "metadata": {},
   "outputs": [],
   "source": [
    "conexion.close()"
   ]
  },
  {
   "cell_type": "code",
   "execution_count": null,
   "metadata": {},
   "outputs": [],
   "source": [
    "import requests"
   ]
  },
  {
   "cell_type": "code",
   "execution_count": null,
   "metadata": {},
   "outputs": [],
   "source": [
    "respuesta = requests.get('https://cdn.buenosaires.gob.ar/datosabiertos/datasets/ente-de-turismo/oferta-establecimientos-gastronomicos/oferta_gastronomica.csv')\n",
    "respuesta.encoding = 'utf-8'\n",
    "respuesta.text"
   ]
  }
 ],
 "metadata": {
  "kernelspec": {
   "display_name": "Python 3",
   "language": "python",
   "name": "python3"
  },
  "language_info": {
   "codemirror_mode": {
    "name": "ipython",
    "version": 3
   },
   "file_extension": ".py",
   "mimetype": "text/x-python",
   "name": "python",
   "nbconvert_exporter": "python",
   "pygments_lexer": "ipython3",
   "version": "3.10.8"
  },
  "orig_nbformat": 4,
  "vscode": {
   "interpreter": {
    "hash": "25b967826fee24da2569b50746cf9fa4067dc6cfa635a17c8da9080146180dfa"
   }
  }
 },
 "nbformat": 4,
 "nbformat_minor": 2
}
