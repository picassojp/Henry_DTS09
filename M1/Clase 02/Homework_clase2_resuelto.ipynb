{
 "cells": [
  {
   "cell_type": "markdown",
   "metadata": {},
   "source": [
    "# Práctica Clase 2"
   ]
  },
  {
   "cell_type": "markdown",
   "metadata": {},
   "source": [
    "1) Abrir el archivo \"Emisiones_CO2.csv\" y cargar sus datos en un diccionario."
   ]
  },
  {
   "cell_type": "code",
   "execution_count": null,
   "metadata": {},
   "outputs": [],
   "source": [
    "archivo = open(r'C:\\Users\\gonza\\Documents\\Trabajo\\Henry\\Data Science\\DS-M1\\Clase 02\\Emisiones_CO2.csv', encoding='ANSI')"
   ]
  },
  {
   "cell_type": "code",
   "execution_count": null,
   "metadata": {},
   "outputs": [],
   "source": [
    "dicc_emisiones = {  'cod_pais' : [],\n",
    "                    'nom_pais' : [],\n",
    "                    'region' : [],\n",
    "                    'anio' : [],\n",
    "                    'co2' : [],\n",
    "                    'co2_percapita' : []}"
   ]
  },
  {
   "cell_type": "code",
   "execution_count": null,
   "metadata": {},
   "outputs": [],
   "source": [
    "next(archivo)\n",
    "for linea in archivo:\n",
    "   linea = linea.strip()\n",
    "   campos = linea.split('|')\n",
    "   dicc_emisiones['cod_pais'].append(campos[0])\n",
    "   dicc_emisiones['nom_pais'].append(campos[1])\n",
    "   dicc_emisiones['region'].append(campos[2])\n",
    "   dicc_emisiones['anio'].append(campos[3])\n",
    "   dicc_emisiones['co2'].append(campos[4])\n",
    "   dicc_emisiones['co2_percapita'].append(campos[5])\n",
    "   "
   ]
  },
  {
   "cell_type": "code",
   "execution_count": null,
   "metadata": {},
   "outputs": [],
   "source": [
    "archivo.close()\n",
    "dicc_emisiones['nom_pais'][6]"
   ]
  },
  {
   "cell_type": "markdown",
   "metadata": {},
   "source": [
    "2) a) ¿Cuántas variables hay? <br>\n",
    "b) ¿Qué tipos de datos usar para cada una? <br>\n",
    "c) ¿Qué tipo de variables son? <br>\n",
    "d) ¿Hay valores faltantes? <br>\n",
    "e) ¿Cuál es el total de emisiones de CO2 para 'América Latina y Caribe' en el año 2010?"
   ]
  },
  {
   "cell_type": "code",
   "execution_count": null,
   "metadata": {},
   "outputs": [],
   "source": [
    "#Bonus track\n",
    "numeros = [3,4,7]\n",
    "for indice, elemento in enumerate(numeros):\n",
    "   print(indice, elemento)\n",
    "\n",
    "frase = \"\"\n",
    "if frase:\n",
    "   print(\"Hay frase\")\n",
    "\n",
    "numeros[1] = 5\n",
    "numeros"
   ]
  },
  {
   "cell_type": "code",
   "execution_count": null,
   "metadata": {},
   "outputs": [],
   "source": [
    "#Valores faltantes\n",
    "for clave in dicc_emisiones:\n",
    "   for elemento in dicc_emisiones[clave]:\n",
    "      if not elemento: print(\"Falta un elemento en:\", clave)"
   ]
  },
  {
   "cell_type": "code",
   "execution_count": null,
   "metadata": {},
   "outputs": [],
   "source": [
    "def normalizacion(lista):\n",
    "   for indice, elemento in enumerate(lista):\n",
    "      if elemento:\n",
    "         elemento = elemento.replace('.', '')\n",
    "         elemento = elemento.replace(',', '.')\n",
    "         elemento = float(elemento)\n",
    "      else: elemento = None\n",
    "      lista[indice] = elemento\n",
    "   return lista\n"
   ]
  },
  {
   "cell_type": "code",
   "execution_count": null,
   "metadata": {},
   "outputs": [],
   "source": [
    "dicc_emisiones['co2'] = normalizacion(dicc_emisiones['co2'])\n",
    "dicc_emisiones['co2_percapita'] = normalizacion(dicc_emisiones['co2_percapita'])"
   ]
  },
  {
   "cell_type": "code",
   "execution_count": null,
   "metadata": {},
   "outputs": [],
   "source": [
    "print(dicc_emisiones['co2'][30])"
   ]
  },
  {
   "cell_type": "code",
   "execution_count": null,
   "metadata": {},
   "outputs": [],
   "source": [
    "#Transformar el año\n",
    "for i in range(len(dicc_emisiones['anio'])):\n",
    "   dicc_emisiones['anio'][i] = int(dicc_emisiones['anio'][i])"
   ]
  },
  {
   "cell_type": "code",
   "execution_count": null,
   "metadata": {},
   "outputs": [],
   "source": [
    "type(dicc_emisiones['anio'][0])"
   ]
  },
  {
   "cell_type": "code",
   "execution_count": null,
   "metadata": {},
   "outputs": [],
   "source": [
    "filtro_anio = 2010\n",
    "filtro_region = 'América Latina y Caribe'\n",
    "emisiones = 0\n",
    "for i in range(len(dicc_emisiones['region'])):\n",
    "   if dicc_emisiones['region'][i] == filtro_region and dicc_emisiones['anio'][i] == filtro_anio and dicc_emisiones['co2'][i] != None: emisiones += dicc_emisiones['co2'][i]\n",
    "\n",
    "print(f'Las emisiones en {filtro_region} en {filtro_anio} fueron de {round(emisiones,3)} kt')\n"
   ]
  }
 ],
 "metadata": {
  "kernelspec": {
   "display_name": "Python 3",
   "language": "python",
   "name": "python3"
  },
  "language_info": {
   "codemirror_mode": {
    "name": "ipython",
    "version": 3
   },
   "file_extension": ".py",
   "mimetype": "text/x-python",
   "name": "python",
   "nbconvert_exporter": "python",
   "pygments_lexer": "ipython3",
   "version": "3.10.8"
  },
  "orig_nbformat": 4,
  "vscode": {
   "interpreter": {
    "hash": "25b967826fee24da2569b50746cf9fa4067dc6cfa635a17c8da9080146180dfa"
   }
  }
 },
 "nbformat": 4,
 "nbformat_minor": 2
}
