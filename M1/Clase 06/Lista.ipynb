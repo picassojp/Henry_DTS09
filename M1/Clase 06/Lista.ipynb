{
 "cells": [
  {
   "cell_type": "code",
   "execution_count": 1,
   "metadata": {},
   "outputs": [],
   "source": [
    "class Node:\n",
    "    def __init__(self, val):\n",
    "        self.data = val\n",
    "        self.next = None\n",
    "\n",
    "    def getData(self):\n",
    "        return self.data\n",
    "\n",
    "    def getNext(self):\n",
    "        return self.next\n",
    "\n",
    "    def setData(self, val):\n",
    "        self.data = val\n",
    "\n",
    "    def setNext(self, val):\n",
    "        self.next = val"
   ]
  },
  {
   "cell_type": "code",
   "execution_count": 8,
   "metadata": {},
   "outputs": [],
   "source": [
    "nd1 = Node(2)\n",
    "nd2 = Node(4)\n",
    "nd3 = Node(8)"
   ]
  },
  {
   "cell_type": "code",
   "execution_count": 21,
   "metadata": {},
   "outputs": [],
   "source": [
    "nd3.setNext(nd2)\n",
    "nd2.setNext(nd1)"
   ]
  },
  {
   "cell_type": "code",
   "execution_count": 18,
   "metadata": {},
   "outputs": [
    {
     "name": "stdout",
     "output_type": "stream",
     "text": [
      "2279577106080 2279577106080\n"
     ]
    }
   ],
   "source": [
    "d = nd3 #se trata de una copia profunda (deepcopy)\n",
    "print(id(d), id(nd3)) #el mismo espacio de memoria"
   ]
  },
  {
   "cell_type": "code",
   "execution_count": 19,
   "metadata": {},
   "outputs": [
    {
     "data": {
      "text/plain": [
       "8"
      ]
     },
     "execution_count": 19,
     "metadata": {},
     "output_type": "execute_result"
    }
   ],
   "source": [
    "nd3.getData()"
   ]
  },
  {
   "cell_type": "code",
   "execution_count": 20,
   "metadata": {},
   "outputs": [
    {
     "data": {
      "text/plain": [
       "8"
      ]
     },
     "execution_count": 20,
     "metadata": {},
     "output_type": "execute_result"
    }
   ],
   "source": [
    "d.getData()"
   ]
  },
  {
   "cell_type": "code",
   "execution_count": 30,
   "metadata": {},
   "outputs": [
    {
     "name": "stdout",
     "output_type": "stream",
     "text": [
      "8 espacio de memoria:  2279577106080\n",
      "4 espacio de memoria:  2279577461200\n",
      "2 espacio de memoria:  2279577096672\n",
      "8 espacio de memoria:  2279577106080\n"
     ]
    }
   ],
   "source": [
    "#iterar los nodos de la lista\n",
    "head = nd3\n",
    "donde_estoy_parado = head\n",
    "while donde_estoy_parado.getNext() != None:\n",
    "    print(donde_estoy_parado.getData(), \"espacio de memoria: \", id(donde_estoy_parado))\n",
    "    donde_estoy_parado = donde_estoy_parado.getNext()\n",
    "print(donde_estoy_parado.getData(), \"espacio de memoria: \", id(donde_estoy_parado))\n",
    "print(head.getData(), \"espacio de memoria: \", id(head))"
   ]
  },
  {
   "cell_type": "code",
   "execution_count": 46,
   "metadata": {},
   "outputs": [],
   "source": [
    "class LinkedList:\n",
    "    def __init__(self):\n",
    "        self.head = None\n",
    "\n",
    "    def isEmpty(self):\n",
    "        \"\"\"Check if the list is empty\"\"\"\n",
    "        if (self.head == None):\n",
    "            return True\n",
    "        else:\n",
    "            return False\n",
    "\n",
    "    def add(self, item):\n",
    "        \"\"\"Add the item to the list\"\"\"\n",
    "        new_node = Node(item)\n",
    "        new_node.setNext(self.head)\n",
    "        self.head = new_node\n",
    "\n",
    "    def size(self):\n",
    "        \"\"\"Return the length/size of the list\"\"\"\n",
    "        count = 0\n",
    "        current = self.head\n",
    "        while (not(current == None)):\n",
    "            count += 1\n",
    "            current = current.getNext()\n",
    "        return count\n",
    "\n",
    "    def search(self, item):\n",
    "        \"\"\"Search for item in list. If found, return True. If not found, return False\"\"\"\n",
    "        current = self.head\n",
    "        found = False\n",
    "        while ((current != None) and (not found)):\n",
    "            if current.getData() is item:\n",
    "                found = True\n",
    "            else:\n",
    "                current = current.getNext()\n",
    "        return found\n",
    "\n",
    "    def remove(self, item):\n",
    "        \"\"\"Remove item from list. If item is not found in list, raise ValueError\"\"\"\n",
    "        current = self.head\n",
    "        previous = None\n",
    "        found = False\n",
    "        while((current != None) and (not found)):\n",
    "            if(current.getData() == item):\n",
    "                found = True\n",
    "            else:\n",
    "                previous = current\n",
    "                current = current.getNext()\n",
    "        if found:\n",
    "            if(previous == None):\n",
    "                self.head = current.getNext()\n",
    "            else:\n",
    "                previous.setNext(current.getNext())\n",
    "        else:\n",
    "            raise ValueError\n",
    "            print('Value not found.')\n",
    "\n",
    "    def insert(self, position, item):\n",
    "        \"\"\"\n",
    "        Insert item at position specified. If position specified is\n",
    "        out of bounds, raise IndexError\n",
    "        \"\"\"\n",
    "        if position > self.size() - 1:\n",
    "            raise IndexError\n",
    "            print('Index out of bounds.')\n",
    "        current = self.head\n",
    "        previous = None\n",
    "        pos = 0\n",
    "        if position == 0:\n",
    "            self.add(item)\n",
    "        else:\n",
    "            new_node = Node(item)\n",
    "            while pos < position:\n",
    "                pos += 1\n",
    "                previous = current\n",
    "                current = current.getNext()\n",
    "            previous.setNext(new_node)\n",
    "            new_node.setNext(current)\n",
    "\n",
    "    def index(self, item):\n",
    "        \"\"\"\n",
    "        Return the index where item is found.\n",
    "        If item is not found, return None.\n",
    "        \"\"\"\n",
    "        current = self.head\n",
    "        pos = 0\n",
    "        found = False\n",
    "        while ((current != None) and (not found)):\n",
    "            if (current.getData() == item):\n",
    "                found = True\n",
    "            else:\n",
    "                current = current.getNext()\n",
    "                pos += 1\n",
    "        if found:\n",
    "            pass\n",
    "        else:\n",
    "            pos = None\n",
    "        return pos\n",
    "\n",
    "    def pop(self, position = None):\n",
    "        \"\"\"\n",
    "        If no argument is provided, return and remove the item at the head. \n",
    "        If position is provided, return and remove the item at that position.\n",
    "        If index is out of bounds, raise IndexError\n",
    "        \"\"\"\n",
    "        current = self.head\n",
    "        if (position == None):\n",
    "            ret = current.getData()\n",
    "            self.head = current.getNext()\n",
    "        else:\n",
    "            if position > self.size():\n",
    "                print('Index out of bounds')\n",
    "                raise IndexError\n",
    "            pos = 0\n",
    "            previous = None\n",
    "            while pos < position:\n",
    "                previous = current\n",
    "                current = current.getNext()\n",
    "                pos += 1\n",
    "                ret = current.getData()\n",
    "            previous.setNext(current.getNext())\n",
    "        return ret\n",
    "\n",
    "    def append(self, item):\n",
    "        \"\"\"Append item to the end of the list\"\"\"\n",
    "        current = self.head\n",
    "        previous = None\n",
    "        pos = 0\n",
    "        length = self.size()\n",
    "        while pos < length:\n",
    "            previous = current\n",
    "            current = current.getNext()\n",
    "            pos += 1\n",
    "        new_node = Node(item)\n",
    "        if (previous == None):\n",
    "            new_node.setNext(current)\n",
    "            self.head = new_node\n",
    "        else:\n",
    "            previous.setNext(new_node)\n",
    "\n",
    "    def printList(self):\n",
    "        \"\"\"Print the list\"\"\"\n",
    "        current = self.head\n",
    "        while (not(current == None)):\n",
    "            print(current.getData())\n",
    "            current = current.getNext()"
   ]
  },
  {
   "cell_type": "code",
   "execution_count": 32,
   "metadata": {},
   "outputs": [],
   "source": [
    "lis = LinkedList()"
   ]
  },
  {
   "cell_type": "code",
   "execution_count": 33,
   "metadata": {},
   "outputs": [
    {
     "data": {
      "text/plain": [
       "True"
      ]
     },
     "execution_count": 33,
     "metadata": {},
     "output_type": "execute_result"
    }
   ],
   "source": [
    "lis.isEmpty()"
   ]
  },
  {
   "cell_type": "code",
   "execution_count": 34,
   "metadata": {},
   "outputs": [],
   "source": [
    "lis.add('rojo')"
   ]
  },
  {
   "cell_type": "code",
   "execution_count": 35,
   "metadata": {},
   "outputs": [
    {
     "data": {
      "text/plain": [
       "1"
      ]
     },
     "execution_count": 35,
     "metadata": {},
     "output_type": "execute_result"
    }
   ],
   "source": [
    "lis.size()"
   ]
  },
  {
   "cell_type": "code",
   "execution_count": 36,
   "metadata": {},
   "outputs": [],
   "source": [
    "lis.add('azul')\n",
    "lis.add('blanco')\n",
    "lis.add('verde')"
   ]
  },
  {
   "cell_type": "code",
   "execution_count": 37,
   "metadata": {},
   "outputs": [
    {
     "data": {
      "text/plain": [
       "True"
      ]
     },
     "execution_count": 37,
     "metadata": {},
     "output_type": "execute_result"
    }
   ],
   "source": [
    "lis.search('rojo')"
   ]
  },
  {
   "cell_type": "code",
   "execution_count": 38,
   "metadata": {},
   "outputs": [
    {
     "data": {
      "text/plain": [
       "False"
      ]
     },
     "execution_count": 38,
     "metadata": {},
     "output_type": "execute_result"
    }
   ],
   "source": [
    "lis.search('amarillo')"
   ]
  },
  {
   "cell_type": "code",
   "execution_count": 39,
   "metadata": {},
   "outputs": [],
   "source": [
    "lis.remove('rojo')"
   ]
  },
  {
   "cell_type": "code",
   "execution_count": 40,
   "metadata": {},
   "outputs": [
    {
     "data": {
      "text/plain": [
       "False"
      ]
     },
     "execution_count": 40,
     "metadata": {},
     "output_type": "execute_result"
    }
   ],
   "source": [
    "lis.search('rojo')"
   ]
  },
  {
   "cell_type": "code",
   "execution_count": 41,
   "metadata": {},
   "outputs": [
    {
     "name": "stdout",
     "output_type": "stream",
     "text": [
      "verde\n",
      "blanco\n",
      "azul\n"
     ]
    }
   ],
   "source": [
    "lis.printList()"
   ]
  },
  {
   "cell_type": "code",
   "execution_count": 42,
   "metadata": {},
   "outputs": [],
   "source": [
    "lis.insert(2,'rojo')"
   ]
  },
  {
   "cell_type": "code",
   "execution_count": 43,
   "metadata": {},
   "outputs": [
    {
     "name": "stdout",
     "output_type": "stream",
     "text": [
      "verde\n",
      "blanco\n",
      "rojo\n",
      "azul\n"
     ]
    }
   ],
   "source": [
    "lis.printList()"
   ]
  },
  {
   "cell_type": "code",
   "execution_count": 44,
   "metadata": {},
   "outputs": [
    {
     "data": {
      "text/plain": [
       "1"
      ]
     },
     "execution_count": 44,
     "metadata": {},
     "output_type": "execute_result"
    }
   ],
   "source": [
    "lis.index('blanco')"
   ]
  },
  {
   "cell_type": "code",
   "execution_count": 45,
   "metadata": {},
   "outputs": [
    {
     "name": "stdout",
     "output_type": "stream",
     "text": [
      "verde\n"
     ]
    },
    {
     "data": {
      "text/plain": [
       "'verde'"
      ]
     },
     "execution_count": 45,
     "metadata": {},
     "output_type": "execute_result"
    }
   ],
   "source": [
    "lis.pop()"
   ]
  },
  {
   "cell_type": "code",
   "execution_count": 47,
   "metadata": {},
   "outputs": [
    {
     "name": "stdout",
     "output_type": "stream",
     "text": [
      "blanco\n",
      "rojo\n",
      "azul\n"
     ]
    }
   ],
   "source": [
    "lis.printList()"
   ]
  },
  {
   "cell_type": "code",
   "execution_count": 48,
   "metadata": {},
   "outputs": [],
   "source": [
    "lis.append('verde')"
   ]
  },
  {
   "cell_type": "code",
   "execution_count": 49,
   "metadata": {},
   "outputs": [
    {
     "name": "stdout",
     "output_type": "stream",
     "text": [
      "blanco\n",
      "rojo\n",
      "azul\n",
      "verde\n"
     ]
    }
   ],
   "source": [
    "lis.printList()"
   ]
  },
  {
   "cell_type": "code",
   "execution_count": 50,
   "metadata": {},
   "outputs": [],
   "source": [
    "lis.add('negro')"
   ]
  },
  {
   "cell_type": "code",
   "execution_count": 51,
   "metadata": {},
   "outputs": [
    {
     "name": "stdout",
     "output_type": "stream",
     "text": [
      "negro\n",
      "blanco\n",
      "rojo\n",
      "azul\n",
      "verde\n"
     ]
    }
   ],
   "source": [
    "lis.printList()"
   ]
  }
 ],
 "metadata": {
  "kernelspec": {
   "display_name": "Python 3",
   "language": "python",
   "name": "python3"
  },
  "language_info": {
   "codemirror_mode": {
    "name": "ipython",
    "version": 3
   },
   "file_extension": ".py",
   "mimetype": "text/x-python",
   "name": "python",
   "nbconvert_exporter": "python",
   "pygments_lexer": "ipython3",
   "version": "3.10.6"
  },
  "orig_nbformat": 4,
  "vscode": {
   "interpreter": {
    "hash": "e3449e78b622b499c4f9a823e829fe6a616fd6890b59f6c67d5ce505c45100f8"
   }
  }
 },
 "nbformat": 4,
 "nbformat_minor": 2
}
