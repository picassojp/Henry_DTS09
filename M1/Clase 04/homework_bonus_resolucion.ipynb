{
 "cells": [
  {
   "cell_type": "code",
   "execution_count": 15,
   "metadata": {},
   "outputs": [],
   "source": [
    "import csv\n",
    "archivo = open(r\"C:\\Users\\juancho\\Desktop\\Henry\\Henry_DTS09\\M1\\Clase 04\\hospitales2.csv\", encoding = \"utf-8\")"
   ]
  },
  {
   "cell_type": "code",
   "execution_count": 27,
   "metadata": {},
   "outputs": [],
   "source": [
    "tabla = csv.reader(archivo, delimiter=\",\")"
   ]
  },
  {
   "cell_type": "code",
   "execution_count": 29,
   "metadata": {},
   "outputs": [
    {
     "name": "stdout",
     "output_type": "stream",
     "text": [
      "['-58.4409882382439', '-34.5538963316473']\n"
     ]
    }
   ],
   "source": [
    "#next(tabla)\n",
    "for i in tabla:\n",
    "    coordenadas = i[0][7:-1].split()\n",
    "    print(coordenadas)\n",
    "    break"
   ]
  },
  {
   "cell_type": "code",
   "execution_count": 5,
   "metadata": {},
   "outputs": [],
   "source": [
    "with open('hosp_salida.csv', 'w', encoding = 'utf-8', newline='') as salida: #el with permite abrir el archivo y cerrarlo en cada ejecución del código (no hace falta usar el file.close())\n",
    "    salida_writer = csv.writer(salida)\n",
    "    next(tabla)\n",
    "    salida_writer.writerow(['latitude', 'longitude', 'name', 'label'])\n",
    "    for linea in tabla:\n",
    "        coordenadas = linea[0][7:-1].split()\n",
    "        salida_writer.writerow([coordenadas[1], coordenadas[0], linea[8], linea[3]])"
   ]
  }
 ],
 "metadata": {
  "kernelspec": {
   "display_name": "Python 3",
   "language": "python",
   "name": "python3"
  },
  "language_info": {
   "codemirror_mode": {
    "name": "ipython",
    "version": 3
   },
   "file_extension": ".py",
   "mimetype": "text/x-python",
   "name": "python",
   "nbconvert_exporter": "python",
   "pygments_lexer": "ipython3",
   "version": "3.10.6 (tags/v3.10.6:9c7b4bd, Aug  1 2022, 21:53:49) [MSC v.1932 64 bit (AMD64)]"
  },
  "orig_nbformat": 4,
  "vscode": {
   "interpreter": {
    "hash": "e3449e78b622b499c4f9a823e829fe6a616fd6890b59f6c67d5ce505c45100f8"
   }
  }
 },
 "nbformat": 4,
 "nbformat_minor": 2
}
