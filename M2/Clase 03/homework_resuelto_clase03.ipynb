{
 "cells": [
  {
   "cell_type": "code",
   "execution_count": null,
   "metadata": {},
   "outputs": [],
   "source": [
    "#1. Suponga dos eventos, A y B, y que P(A) = 0.50, P(B) = 0.60 y P(A ∩ B) = 0.40.<br>\n",
    "#P(A|B)\n",
    "print(0.4 / 0.6)\n",
    "#P(B|A)\n",
    "print(0.4 / 0.5)\n",
    "#P(A ∩ B) = P(A) * P(B) No son independientes\n",
    "#print(0.5 * 0.6)"
   ]
  },
  {
   "cell_type": "code",
   "execution_count": null,
   "metadata": {},
   "outputs": [],
   "source": [
    "#2. Suponga dos eventos, A y B, que son mutuamente excluyentes. Admita, además, que P(A) = 0.30 y P(B) = 0.40.\n",
    "#Obtenga P(A ∩ B) = 0\n",
    "#P(A|B) = 0.3\n",
    "#C - Está equivocada, no son lo mismo excluyentes que independientes."
   ]
  },
  {
   "cell_type": "code",
   "execution_count": null,
   "metadata": {},
   "outputs": [],
   "source": [
    "#3. Si en la concesionaria se seleccionan dos ventas con reposición (Los sucesos son independientes.). Hallar la probabilidad de que las ventas sean:<br>\n",
    " \n",
    " # - a. La primera de un comprador de “menos de 40 años” y la segunda de uno de \"entre 40 y 50 años\". \n",
    "  \n",
    " # - b. las dos sean de autos \"nacionales\".\n",
    "\n",
    "#P(<40 y entre 40 y 50)\n",
    "print((30/80) * (34/80))\n",
    "#P(N y N)\n",
    "print((50/80) * (50/80))\n"
   ]
  },
  {
   "cell_type": "code",
   "execution_count": null,
   "metadata": {},
   "outputs": [],
   "source": [
    "#4. Si la selección de las dos ventas se realiza sin reposición. Hallar la probabilidad de que las ventas sean:<br>Los sucesos son condicionales.\n",
    "\n",
    "# - a. la primera de un comprador de “menos de 40 años” y la segunda de uno de \"entre 40 y 50 años\".\n",
    "\n",
    "# - b. las dos sean de autos \"nacionales\".\n",
    "#P(<40 y entre 40 y 50) = P(<40) p(entre 40 y 50  | <40)\n",
    "print((30/80) * (34/79))\n",
    "#P(N y N) = P(N) * P(N | N)\n",
    "print((50/80) * (49/79))"
   ]
  },
  {
   "cell_type": "code",
   "execution_count": null,
   "metadata": {},
   "outputs": [],
   "source": [
    "#5. Si la selección de las dos ventas se realiza sin reposición. Hallar la probabilidad de que las ventas sean. Los sucesos son condicionales.\n",
    "  \n",
    "#- a. De un comprador de “menos de 40 años” y de uno de \"entre 40 y 50 años\". Sin importar el orden.\n",
    "\n",
    "print((30/80) * (34/79) + (34/80) * (30/79))"
   ]
  }
 ],
 "metadata": {
  "kernelspec": {
   "display_name": "Python 3",
   "language": "python",
   "name": "python3"
  },
  "language_info": {
   "codemirror_mode": {
    "name": "ipython",
    "version": 3
   },
   "file_extension": ".py",
   "mimetype": "text/x-python",
   "name": "python",
   "nbconvert_exporter": "python",
   "pygments_lexer": "ipython3",
   "version": "3.10.8"
  },
  "orig_nbformat": 4,
  "vscode": {
   "interpreter": {
    "hash": "25b967826fee24da2569b50746cf9fa4067dc6cfa635a17c8da9080146180dfa"
   }
  }
 },
 "nbformat": 4,
 "nbformat_minor": 2
}
