{
 "cells": [
  {
   "cell_type": "code",
   "execution_count": 3,
   "metadata": {},
   "outputs": [],
   "source": [
    "import numpy as np # importando numpy\n",
    "from scipy import stats # importando scipy.stats\n",
    "import pandas as pd #importando pandas\n",
    "import matplotlib.pyplot as plt # importando matplotlib"
   ]
  },
  {
   "cell_type": "code",
   "execution_count": 4,
   "metadata": {},
   "outputs": [],
   "source": [
    "muestra = np.array( [[1.85, 1.8, 1.8 , 1.8],\n",
    "                    [1.73,  1.7, 1.75, 1.76],\n",
    "                    [ 1.65, 1.69,  1.67 ,  1.6],\n",
    "                    [1.54,  1.57, 1.58, 1.59],\n",
    "                    [ 1.4 , 1.42,  1.45, 1.48]]) "
   ]
  },
  {
   "cell_type": "code",
   "execution_count": 5,
   "metadata": {},
   "outputs": [
    {
     "name": "stdout",
     "output_type": "stream",
     "text": [
      "1.6415\n",
      "1.6415\n",
      "1.6415\n"
     ]
    }
   ],
   "source": [
    "#media aritmética\n",
    "print(muestra.mean())\n",
    "print(np.mean(muestra))\n",
    "\n",
    "def obtenerPromedio(arreglo):\n",
    "   # numeros = []\n",
    "   # for fila in arreglo:\n",
    "   #    for numero in fila:\n",
    "   #       numeros.append(numero)\n",
    "   numeros = [numero for fila in arreglo for numero in fila]\n",
    "   suma = 0\n",
    "   for cantidad, numero in enumerate(numeros, 1):\n",
    "      suma += numero\n",
    "   promedio = suma / cantidad\n",
    "   return promedio\n",
    "\n",
    "print(obtenerPromedio(muestra))\n",
    "    "
   ]
  },
  {
   "cell_type": "code",
   "execution_count": 6,
   "metadata": {},
   "outputs": [
    {
     "name": "stdout",
     "output_type": "stream",
     "text": [
      "1.66\n"
     ]
    }
   ],
   "source": [
    "#Mediana\n",
    "print(np.median(muestra))"
   ]
  },
  {
   "cell_type": "code",
   "execution_count": 7,
   "metadata": {},
   "outputs": [
    {
     "data": {
      "text/plain": [
       "array([1.85, 1.8 , 1.8 , 1.8 , 1.73, 1.7 , 1.75, 1.76, 1.65, 1.69, 1.67,\n",
       "       1.6 , 1.54, 1.57, 1.58, 1.59, 1.4 , 1.42, 1.45, 1.48])"
      ]
     },
     "execution_count": 7,
     "metadata": {},
     "output_type": "execute_result"
    }
   ],
   "source": [
    "muestra.flatten()"
   ]
  },
  {
   "cell_type": "code",
   "execution_count": 8,
   "metadata": {},
   "outputs": [
    {
     "name": "stdout",
     "output_type": "stream",
     "text": [
      "{1, 2, 4, 5, 8}\n"
     ]
    }
   ],
   "source": [
    "#set\n",
    "nums = {1,2,4,5,5,5,5,8}\n",
    "print(nums)"
   ]
  },
  {
   "cell_type": "code",
   "execution_count": 9,
   "metadata": {},
   "outputs": [
    {
     "name": "stdout",
     "output_type": "stream",
     "text": [
      "0 2\n",
      "1 3\n",
      "2 5\n"
     ]
    }
   ],
   "source": [
    "lista = [2,3,5]\n",
    "\n",
    "#for indice, elemento in enumerate(lista):\n",
    "   #print(indice, elemento)\n",
    "\n",
    "for iterador in enumerate(lista):\n",
    "   print(iterador[0], iterador[1])"
   ]
  },
  {
   "cell_type": "code",
   "execution_count": 10,
   "metadata": {},
   "outputs": [
    {
     "data": {
      "text/plain": [
       "1.8"
      ]
     },
     "execution_count": 10,
     "metadata": {},
     "output_type": "execute_result"
    }
   ],
   "source": [
    "#Moda\n",
    "#print(stats.mode(muestra.flatten())[0])\n",
    "\n",
    "def obtenerModa(arreglo):\n",
    "   numeros = [numero for fila in arreglo for numero in fila] #Paso la matriz a una lista\n",
    "   unicos = list(set(numeros)) #Obtengo valores únicos\n",
    "   moda, maximo = 0,0\n",
    "   for indice, numero in enumerate(unicos):\n",
    "      conteo = numeros.count(numero) #Busco la mayor repetición de ese valor\n",
    "      if conteo > maximo:\n",
    "         maximo = conteo\n",
    "         moda = unicos[indice]\n",
    "   return moda\n",
    "\n",
    "obtenerModa(muestra)\n",
    "\n"
   ]
  },
  {
   "cell_type": "code",
   "execution_count": 11,
   "metadata": {},
   "outputs": [
    {
     "name": "stdout",
     "output_type": "stream",
     "text": [
      "0.017642750000000006\n"
     ]
    }
   ],
   "source": [
    "#Varianza\n",
    "print(np.var(muestra))"
   ]
  },
  {
   "cell_type": "code",
   "execution_count": 12,
   "metadata": {},
   "outputs": [
    {
     "name": "stdout",
     "output_type": "stream",
     "text": [
      "0.13282601401833907\n"
     ]
    }
   ],
   "source": [
    "#Desvío\n",
    "print(np.std(muestra))"
   ]
  },
  {
   "cell_type": "code",
   "execution_count": 13,
   "metadata": {},
   "outputs": [
    {
     "data": {
      "text/plain": [
       "8.09174620885404"
      ]
     },
     "execution_count": 13,
     "metadata": {},
     "output_type": "execute_result"
    }
   ],
   "source": [
    "#Coeficiente\n",
    "(np.std(muestra) / np.mean(muestra)) * 100"
   ]
  },
  {
   "cell_type": "code",
   "execution_count": 14,
   "metadata": {},
   "outputs": [
    {
     "data": {
      "image/png": "[encoded data removed]",
      "text/plain": [
       "<Figure size 640x480 with 1 Axes>"
      ]
     },
     "metadata": {},
     "output_type": "display_data"
    }
   ],
   "source": [
    "numeros = [numero for fila in muestra for numero in fila] #Paso la matriz a una lista\n",
    "plt.hist(x = numeros, bins = 5, color = 'cyan', rwidth = 0.8)\n",
    "plt.title(\"Histograma de alturas\")\n",
    "plt.xlabel(\"Alturas\")\n",
    "plt.ylabel(\"Frecuecia\")\n",
    "plt.show()"
   ]
  },
  {
   "cell_type": "code",
   "execution_count": 15,
   "metadata": {},
   "outputs": [
    {
     "data": {
      "text/html": [
       "<div>\n",
       "<style scoped>\n",
       "    .dataframe tbody tr th:only-of-type {\n",
       "        vertical-align: middle;\n",
       "    }\n",
       "\n",
       "    .dataframe tbody tr th {\n",
       "        vertical-align: top;\n",
       "    }\n",
       "\n",
       "    .dataframe thead th {\n",
       "        text-align: right;\n",
       "    }\n",
       "</style>\n",
       "<table border=\"1\" class=\"dataframe\">\n",
       "  <thead>\n",
       "    <tr style=\"text-align: right;\">\n",
       "      <th></th>\n",
       "      <th>col1</th>\n",
       "      <th>col2</th>\n",
       "      <th>col3</th>\n",
       "      <th>col4</th>\n",
       "    </tr>\n",
       "  </thead>\n",
       "  <tbody>\n",
       "    <tr>\n",
       "      <th>count</th>\n",
       "      <td>5.000000</td>\n",
       "      <td>5.000000</td>\n",
       "      <td>5.000000</td>\n",
       "      <td>5.000000</td>\n",
       "    </tr>\n",
       "    <tr>\n",
       "      <th>mean</th>\n",
       "      <td>1.634000</td>\n",
       "      <td>1.636000</td>\n",
       "      <td>1.650000</td>\n",
       "      <td>1.646000</td>\n",
       "    </tr>\n",
       "    <tr>\n",
       "      <th>std</th>\n",
       "      <td>0.173003</td>\n",
       "      <td>0.145705</td>\n",
       "      <td>0.139463</td>\n",
       "      <td>0.131833</td>\n",
       "    </tr>\n",
       "    <tr>\n",
       "      <th>min</th>\n",
       "      <td>1.400000</td>\n",
       "      <td>1.420000</td>\n",
       "      <td>1.450000</td>\n",
       "      <td>1.480000</td>\n",
       "    </tr>\n",
       "    <tr>\n",
       "      <th>25%</th>\n",
       "      <td>1.540000</td>\n",
       "      <td>1.570000</td>\n",
       "      <td>1.580000</td>\n",
       "      <td>1.590000</td>\n",
       "    </tr>\n",
       "    <tr>\n",
       "      <th>50%</th>\n",
       "      <td>1.650000</td>\n",
       "      <td>1.690000</td>\n",
       "      <td>1.670000</td>\n",
       "      <td>1.600000</td>\n",
       "    </tr>\n",
       "    <tr>\n",
       "      <th>75%</th>\n",
       "      <td>1.730000</td>\n",
       "      <td>1.700000</td>\n",
       "      <td>1.750000</td>\n",
       "      <td>1.760000</td>\n",
       "    </tr>\n",
       "    <tr>\n",
       "      <th>max</th>\n",
       "      <td>1.850000</td>\n",
       "      <td>1.800000</td>\n",
       "      <td>1.800000</td>\n",
       "      <td>1.800000</td>\n",
       "    </tr>\n",
       "  </tbody>\n",
       "</table>\n",
       "</div>"
      ],
      "text/plain": [
       "           col1      col2      col3      col4\n",
       "count  5.000000  5.000000  5.000000  5.000000\n",
       "mean   1.634000  1.636000  1.650000  1.646000\n",
       "std    0.173003  0.145705  0.139463  0.131833\n",
       "min    1.400000  1.420000  1.450000  1.480000\n",
       "25%    1.540000  1.570000  1.580000  1.590000\n",
       "50%    1.650000  1.690000  1.670000  1.600000\n",
       "75%    1.730000  1.700000  1.750000  1.760000\n",
       "max    1.850000  1.800000  1.800000  1.800000"
      ]
     },
     "execution_count": 15,
     "metadata": {},
     "output_type": "execute_result"
    }
   ],
   "source": [
    "df = pd.DataFrame(muestra, index = range(1,6), columns = ['col1', 'col2','col3','col4'])\n",
    "df.describe()"
   ]
  },
  {
   "cell_type": "code",
   "execution_count": 16,
   "metadata": {},
   "outputs": [
    {
     "data": {
      "text/html": [
       "<div>\n",
       "<style scoped>\n",
       "    .dataframe tbody tr th:only-of-type {\n",
       "        vertical-align: middle;\n",
       "    }\n",
       "\n",
       "    .dataframe tbody tr th {\n",
       "        vertical-align: top;\n",
       "    }\n",
       "\n",
       "    .dataframe thead th {\n",
       "        text-align: right;\n",
       "    }\n",
       "</style>\n",
       "<table border=\"1\" class=\"dataframe\">\n",
       "  <thead>\n",
       "    <tr style=\"text-align: right;\">\n",
       "      <th></th>\n",
       "      <th>Ingreso en miles</th>\n",
       "      <th>Años de estudio</th>\n",
       "    </tr>\n",
       "  </thead>\n",
       "  <tbody>\n",
       "    <tr>\n",
       "      <th>count</th>\n",
       "      <td>10.000000</td>\n",
       "      <td>10.000000</td>\n",
       "    </tr>\n",
       "    <tr>\n",
       "      <th>mean</th>\n",
       "      <td>13.810000</td>\n",
       "      <td>17.500000</td>\n",
       "    </tr>\n",
       "    <tr>\n",
       "      <th>std</th>\n",
       "      <td>7.251889</td>\n",
       "      <td>2.223611</td>\n",
       "    </tr>\n",
       "    <tr>\n",
       "      <th>min</th>\n",
       "      <td>5.900000</td>\n",
       "      <td>14.000000</td>\n",
       "    </tr>\n",
       "    <tr>\n",
       "      <th>25%</th>\n",
       "      <td>7.850000</td>\n",
       "      <td>16.000000</td>\n",
       "    </tr>\n",
       "    <tr>\n",
       "      <th>50%</th>\n",
       "      <td>11.150000</td>\n",
       "      <td>17.500000</td>\n",
       "    </tr>\n",
       "    <tr>\n",
       "      <th>75%</th>\n",
       "      <td>20.075000</td>\n",
       "      <td>18.000000</td>\n",
       "    </tr>\n",
       "    <tr>\n",
       "      <th>max</th>\n",
       "      <td>25.800000</td>\n",
       "      <td>21.000000</td>\n",
       "    </tr>\n",
       "  </tbody>\n",
       "</table>\n",
       "</div>"
      ],
      "text/plain": [
       "       Ingreso en miles  Años de estudio\n",
       "count         10.000000        10.000000\n",
       "mean          13.810000        17.500000\n",
       "std            7.251889         2.223611\n",
       "min            5.900000        14.000000\n",
       "25%            7.850000        16.000000\n",
       "50%           11.150000        17.500000\n",
       "75%           20.075000        18.000000\n",
       "max           25.800000        21.000000"
      ]
     },
     "execution_count": 16,
     "metadata": {},
     "output_type": "execute_result"
    }
   ],
   "source": [
    "grupos = np.array([[10.5,17],\n",
    "                  [6.8,18],\n",
    "                  [20.7,21],\n",
    "                  [18.2,16],\n",
    "                  [8.6,16],\n",
    "                  [25.8,21],\n",
    "                  [22.2,16],\n",
    "                  [5.9,14],\n",
    "                  [7.6,18],\n",
    "                  [11.8,18]])\n",
    "\n",
    "grupos_df = pd.DataFrame(grupos, index = range(1,11), columns=['Ingreso en miles', 'Años de estudio'])\n",
    "grupos_df.describe()"
   ]
  },
  {
   "cell_type": "code",
   "execution_count": null,
   "metadata": {},
   "outputs": [],
   "source": [
    "#Histograma Ingrso en miles\n",
    "plt.hist(x = grupos_df['Ingreso en miles'], bins = 6, color = 'blue', rwidth = 0.8)\n",
    "plt.title(\"Histograma Ingrso en miles\", color= 'red')\n",
    "plt.xlabel(\"Ingreso en miles\")\n",
    "plt.ylabel(\"Frecuecia\")\n",
    "plt.show()"
   ]
  },
  {
   "cell_type": "code",
   "execution_count": null,
   "metadata": {},
   "outputs": [],
   "source": [
    "#Histograma de Años de estudio\n",
    "plt.hist(x = grupos_df['Años de estudio'], bins = 6, color = 'cyan', rwidth = 0.8)\n",
    "plt.title('Histograma de Años de estudio', color= 'red')\n",
    "plt.xlabel(\"Años de estudio\")\n",
    "plt.ylabel(\"Frecuecia\")\n",
    "plt.show()"
   ]
  },
  {
   "cell_type": "code",
   "execution_count": null,
   "metadata": {},
   "outputs": [],
   "source": [
    "grupos_df['Ingreso en miles'].mean()"
   ]
  },
  {
   "cell_type": "code",
   "execution_count": null,
   "metadata": {},
   "outputs": [],
   "source": [
    "np.mean(grupos[:, 0])"
   ]
  },
  {
   "cell_type": "code",
   "execution_count": null,
   "metadata": {},
   "outputs": [],
   "source": [
    "grupos_df.loc[11] = [50, 35]\n",
    "grupos_df.loc[12] = [120, 30]\n",
    "grupos_df.describe()"
   ]
  },
  {
   "cell_type": "code",
   "execution_count": 81,
   "metadata": {},
   "outputs": [
    {
     "name": "stdout",
     "output_type": "stream",
     "text": [
      "7\n"
     ]
    }
   ],
   "source": [
    "def lineal(x):\n",
    "   y = 3 * x + 1\n",
    "   return y\n",
    "\n",
    "print(lineal(2))"
   ]
  }
 ],
 "metadata": {
  "kernelspec": {
   "display_name": "Python 3",
   "language": "python",
   "name": "python3"
  },
  "language_info": {
   "codemirror_mode": {
    "name": "ipython",
    "version": 3
   },
   "file_extension": ".py",
   "mimetype": "text/x-python",
   "name": "python",
   "nbconvert_exporter": "python",
   "pygments_lexer": "ipython3",
   "version": "3.10.6"
  },
  "orig_nbformat": 4,
  "vscode": {
   "interpreter": {
    "hash": "e3449e78b622b499c4f9a823e829fe6a616fd6890b59f6c67d5ce505c45100f8"
   }
  }
 },
 "nbformat": 4,
 "nbformat_minor": 2
}
