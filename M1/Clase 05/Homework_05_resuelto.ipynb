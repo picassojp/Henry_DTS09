{
 "cells": [
  {
   "cell_type": "markdown",
   "metadata": {},
   "source": [
    "# Práctica Clase 5"
   ]
  },
  {
   "cell_type": "markdown",
   "metadata": {},
   "source": [
    "1) Implementar un juego, que consista en apilar números enteros del 1 al 20, de forma aleatoria, para lo cual debe usarse una estructura de Pila. \n",
    "Luego, el usuario debe elegir un número de veces en que se va a quitar elementos de la pila, los cuales, sumados entre sí, no deben superar el valor de 50.\n",
    "El usuario pierde si la suma supera ese valor. Si no lo supera, gana, pero su calificación será 10 menos el número elementos que falten quitar para todavía no superar 50.\n",
    "El programa debe informar si perdió, y si ganó, con qué calificación lo hizo.\n",
    "\n",
    "Consideraciones:<br>\n",
    "a. Se puede usar la función input() para obtener una entrada de teclado.<br>\n",
    "b. Se puede usar la el modulo random para obtener valores aleatorios."
   ]
  },
  {
   "cell_type": "code",
   "execution_count": null,
   "metadata": {},
   "outputs": [],
   "source": [
    "import random as r\n",
    "class JuegoPila:\n",
    "   def __init__(self):\n",
    "      # self.__lista = []\n",
    "      # while len(self.__lista) < 20:\n",
    "      #    numero = r.randint(1,20)\n",
    "      #    if numero not in self.__lista: self.__lista.append(numero)\n",
    "      self.__lista = r.sample(range(1,21), 20)\n",
    "      #print(self.__lista)\n",
    "\n",
    "   #Quitar un elemento\n",
    "   def __pop(self):\n",
    "      return self.__lista.pop()\n",
    "   \n",
    "   def __mostrarPila(self):\n",
    "      print(self.__lista)\n",
    "\n",
    "   def jugar(self):\n",
    "      cant_elementos_quitar = input(\"Ingrese la cantidad de elementos a quitar: \")\n",
    "      while not cant_elementos_quitar.isdecimal() or int(cant_elementos_quitar) > 20:\n",
    "         cant_elementos_quitar = input(\"Ingrese la cantidad de elementos a quitar nuevamente(tiene que ser un número entero entre 1 y 20): \")\n",
    "      cant_elementos_quitar = int(cant_elementos_quitar)\n",
    "      \n",
    "      print('Pila original:')\n",
    "      self.__mostrarPila()\n",
    "      print(\"Cantidad de elementos a quitar:\", cant_elementos_quitar)\n",
    "\n",
    "      calificacion = 10\n",
    "      suma = 0\n",
    "      for i in range(cant_elementos_quitar):\n",
    "         suma += self.__pop()\n",
    "      \n",
    "      print(\"Pila obtenida:\")\n",
    "      self.__mostrarPila()\n",
    "\n",
    "      print(\"La suma es de los elementos a quitar es:\", suma)\n",
    "\n",
    "      if suma > 50:\n",
    "         print(\"Perdiste!! Te pasaste del valor de 50\")\n",
    "      else:\n",
    "         while suma <= 50:\n",
    "            suma += self.__pop()\n",
    "            if suma <= 50: calificacion -= 1\n",
    "         print(\"Felicitaciones!! Ganaste, tu puntaje es:\", calificacion)\n"
   ]
  },
  {
   "cell_type": "code",
   "execution_count": null,
   "metadata": {},
   "outputs": [],
   "source": [
    "mi_pila = JuegoPila()\n",
    "mi_pila.jugar()"
   ]
  },
  {
   "cell_type": "markdown",
   "metadata": {},
   "source": [
    "2) Implementar un juego donde constas de 2 jarras, de capacidad 5 y 3 litros respectivamente, y debes colocar 4 litros en la jarra de 5L.\n",
    "Las opciones posibles son:\n",
    "* Llenar la jarra de 3 litros\n",
    "* Llenar la jarra de 5 litros\n",
    "* Vaciar la jarra de 3 litros\n",
    "* Vaciar la jarra de 5 litros\n",
    "* Verter el contenido de la jarra de 3 litros en la de 5 litros\n",
    "* Verter el contenido de la jarra de 5 litros en la de 3 litros"
   ]
  }
 ],
 "metadata": {
  "kernelspec": {
   "display_name": "Python 3",
   "language": "python",
   "name": "python3"
  },
  "language_info": {
   "codemirror_mode": {
    "name": "ipython",
    "version": 3
   },
   "file_extension": ".py",
   "mimetype": "text/x-python",
   "name": "python",
   "nbconvert_exporter": "python",
   "pygments_lexer": "ipython3",
   "version": "3.10.8"
  },
  "vscode": {
   "interpreter": {
    "hash": "25b967826fee24da2569b50746cf9fa4067dc6cfa635a17c8da9080146180dfa"
   }
  }
 },
 "nbformat": 4,
 "nbformat_minor": 4
}
