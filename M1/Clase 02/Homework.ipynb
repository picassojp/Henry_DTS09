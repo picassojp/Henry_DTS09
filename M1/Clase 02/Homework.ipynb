{
 "cells": [
  {
   "cell_type": "markdown",
   "metadata": {},
   "source": [
    "# Práctica Clase 2"
   ]
  },
  {
   "cell_type": "markdown",
   "metadata": {},
   "source": [
    "1) Abrir el archivo \"Emisiones_CO2.csv\" y cargar sus datos en un diccionario."
   ]
  },
  {
   "cell_type": "code",
   "execution_count": 95,
   "metadata": {},
   "outputs": [],
   "source": [
    "import os\n",
    "#la función built-in \"open\" devuelve un objeto de tipo archivo \"TextIOWrapper\"\n",
    "archivo = open('Emisiones_CO2.csv', 'r', encoding=\"ANSI\")"
   ]
  },
  {
   "cell_type": "code",
   "execution_count": 24,
   "metadata": {},
   "outputs": [
    {
     "data": {
      "text/plain": [
       "_io.TextIOWrapper"
      ]
     },
     "execution_count": 24,
     "metadata": {},
     "output_type": "execute_result"
    }
   ],
   "source": [
    "type(archivo) #tipo de archivo"
   ]
  },
  {
   "cell_type": "code",
   "execution_count": 67,
   "metadata": {},
   "outputs": [
    {
     "name": "stdout",
     "output_type": "stream",
     "text": [
      "ABW|Aruba|América Latina y Caribe|1960||\n",
      "\n"
     ]
    }
   ],
   "source": [
    "#para imprimir sólo la primera línea, es decir, el encabezado con los nombres de las columnas en este caso\n",
    "for line in archivo:\n",
    "    print(line)\n",
    "    break"
   ]
  },
  {
   "cell_type": "code",
   "execution_count": 61,
   "metadata": {},
   "outputs": [
    {
     "name": "stdout",
     "output_type": "stream",
     "text": [
      "'ABW|Aruba|América Latina y Caribe|1962||\\n'\n"
     ]
    }
   ],
   "source": [
    "#para imprimir sólo la primera línea, es decir, el encabezado con los nombres de las columnas en este caso\n",
    "for line in archivo:\n",
    "    print(repr(line)) #repr() devuelve el string con los caracteres especiales\n",
    "    break"
   ]
  },
  {
   "cell_type": "code",
   "execution_count": 22,
   "metadata": {},
   "outputs": [],
   "source": [
    "#usando el atributo read devuelve el contenido del archivo\n",
    "#archivo.read()\n",
    "#como cualquier otro archivo, hay que cerrarlo una vez que terminas de usarlo\n",
    "#archivo.close()"
   ]
  },
  {
   "cell_type": "code",
   "execution_count": 70,
   "metadata": {},
   "outputs": [
    {
     "name": "stdout",
     "output_type": "stream",
     "text": [
      "['_CHUNK_SIZE', '__class__', '__del__', '__delattr__', '__dict__', '__dir__', '__doc__', '__enter__', '__eq__', '__exit__', '__format__', '__ge__', '__getattribute__', '__gt__', '__hash__', '__init__', '__init_subclass__', '__iter__', '__le__', '__lt__', '__ne__', '__new__', '__next__', '__reduce__', '__reduce_ex__', '__repr__', '__setattr__', '__sizeof__', '__str__', '__subclasshook__', '_checkClosed', '_checkReadable', '_checkSeekable', '_checkWritable', '_finalizing', 'buffer', 'close', 'closed', 'detach', 'encoding', 'errors', 'fileno', 'flush', 'isatty', 'line_buffering', 'mode', 'name', 'newlines', 'read', 'readable', 'readline', 'readlines', 'reconfigure', 'seek', 'seekable', 'tell', 'truncate', 'writable', 'write', 'write_through', 'writelines']\n"
     ]
    }
   ],
   "source": [
    "print(dir(archivo))"
   ]
  },
  {
   "attachments": {},
   "cell_type": "markdown",
   "metadata": {},
   "source": [
    "### Primera opción"
   ]
  },
  {
   "cell_type": "code",
   "execution_count": 52,
   "metadata": {},
   "outputs": [],
   "source": [
    "#se crean las listas que se usaran para guardar cada registro\n",
    "cod_pais = []\n",
    "nom_pais = [] \n",
    "region = []\n",
    "anio = []\n",
    "co2 = []\n",
    "co2_percapita = []"
   ]
  },
  {
   "cell_type": "code",
   "execution_count": null,
   "metadata": {},
   "outputs": [],
   "source": [
    "for line in archivo:\n",
    "    #print(line)\n",
    "    line = line.strip()\n",
    "    reg = line.split('|')\n",
    "    cod_pais.append(reg[0])\n",
    "    nom_pais.append(reg[1])\n",
    "    region.append(reg[2])\n",
    "    anio.append(reg[3])\n",
    "    co2.append(reg[4])\n",
    "    co2_percapita.append(reg[5])\n",
    "    print(reg)\n"
   ]
  },
  {
   "cell_type": "code",
   "execution_count": 57,
   "metadata": {},
   "outputs": [],
   "source": [
    "dicc_emisiones = {  'cod_pais' : [cod_pais],\n",
    "                    'nom_pais' : [nom_pais],\n",
    "                    'region' : [region],\n",
    "                    'anio' : [anio],\n",
    "                    'co2' : [co2],\n",
    "                    'co2_percapita' : [co2_percapita]}"
   ]
  },
  {
   "cell_type": "code",
   "execution_count": null,
   "metadata": {},
   "outputs": [],
   "source": [
    "print(dicc_emisiones)"
   ]
  },
  {
   "attachments": {},
   "cell_type": "markdown",
   "metadata": {},
   "source": [
    "### Segunda opción"
   ]
  },
  {
   "cell_type": "code",
   "execution_count": 96,
   "metadata": {},
   "outputs": [],
   "source": [
    "dicc_emisiones2 = {  'cod_pais' : [],\n",
    "                    'nom_pais' : [],\n",
    "                    'region' : [],\n",
    "                    'anio' : [],\n",
    "                    'co2' : [],\n",
    "                    'co2_percapita' : []}"
   ]
  },
  {
   "cell_type": "code",
   "execution_count": 70,
   "metadata": {},
   "outputs": [],
   "source": [
    "next(archivo)\n",
    "for line in archivo:\n",
    "    #print(line)\n",
    "    #break\n",
    "    line = line.strip() #elimina los caracteres especiales como el \\n (salto de línea)\n",
    "    reg = line.split('|') #divide el str por el separador definido\n",
    "    dicc_emisiones2[\"cod_pais\"] += reg[0]\n",
    "    dicc_emisiones2[\"nom_pais\"] += reg[1]\n",
    "    dicc_emisiones2[\"region\"] += reg[2]\n",
    "    dicc_emisiones2[\"anio\"] += reg[3]\n",
    "    dicc_emisiones2[\"co2\"] += reg[4]\n",
    "    dicc_emisiones2[\"co2_percapita\"] += reg[5]\n",
    "    #print(reg)"
   ]
  },
  {
   "cell_type": "code",
   "execution_count": 97,
   "metadata": {},
   "outputs": [],
   "source": [
    "next(archivo)\n",
    "for line in archivo:\n",
    "    #print(line)\n",
    "    #break\n",
    "    line = line.strip() #elimina los caracteres especiales como el \\n (salto de línea)\n",
    "    reg = line.split('|') #divide el str por el separador definido\n",
    "    dicc_emisiones2[\"cod_pais\"].append(reg[0]) #agrega cada elemento en la key definida\n",
    "    dicc_emisiones2[\"nom_pais\"].append(reg[1])\n",
    "    dicc_emisiones2[\"region\"].append(reg[2])\n",
    "    dicc_emisiones2[\"anio\"].append(reg[3])\n",
    "    dicc_emisiones2[\"co2\"].append(reg[4])\n",
    "    dicc_emisiones2[\"co2_percapita\"].append(reg[5])\n",
    "    #print(reg)\n"
   ]
  },
  {
   "cell_type": "code",
   "execution_count": 98,
   "metadata": {},
   "outputs": [
    {
     "data": {
      "text/plain": [
       "'ABW'"
      ]
     },
     "execution_count": 98,
     "metadata": {},
     "output_type": "execute_result"
    }
   ],
   "source": [
    "#print(dicc_emisiones2)\n",
    "dicc_emisiones2[\"cod_pais\"][0] #elemento en la posicion cero"
   ]
  },
  {
   "attachments": {},
   "cell_type": "markdown",
   "metadata": {},
   "source": [
    "2) a) ¿Cuántas variables hay? <br>\n",
    "Existen 6 variables <br>\n",
    "b) ¿Qué tipos de datos usar para cada una? <br>\n",
    "Para variables como codigo de pais, nombre de pais y región se pueden utilizar datos de tipo str <br>\n",
    "Para variables como año se utiliza enteros (int) <br>\n",
    "Para las variables de dioxido de carbono se utilizan datos de tipo cuantitativo continuos como float <br>\n",
    "c) ¿Qué tipo de variables son? <br>\n",
    "d) ¿Hay valores faltantes? <br>\n",
    "e) ¿Cuál es el total de emisiones de CO2 para 'América Latina y Caribe' en el año 2010?"
   ]
  },
  {
   "cell_type": "code",
   "execution_count": 99,
   "metadata": {},
   "outputs": [],
   "source": [
    "#para calcular las emisiones para cada región necesito pasar a enteros los años\n",
    "def entero(lista):\n",
    "    for indice, elemento in enumerate(lista):\n",
    "        lista[indice] = int(elemento)\n",
    "        #print(elemento)\n",
    "        "
   ]
  },
  {
   "cell_type": "code",
   "execution_count": 100,
   "metadata": {},
   "outputs": [],
   "source": [
    "def continuo(lista):\n",
    "    for indice, elemento in enumerate(lista):\n",
    "        if elemento != None:\n",
    "            lista[indice] = float(elemento)\n",
    "        #print(elemento)"
   ]
  },
  {
   "cell_type": "code",
   "execution_count": 101,
   "metadata": {},
   "outputs": [],
   "source": [
    "#para calcular las emisiones para cada región necesito agregar los valores faltantes (nulos)\n",
    "def agregar_nulos(lista):\n",
    "    for indice, elemento in enumerate(lista):\n",
    "        if elemento == '':\n",
    "            lista[indice] = None\n",
    "        #print(elemento)\n"
   ]
  },
  {
   "cell_type": "code",
   "execution_count": 102,
   "metadata": {},
   "outputs": [
    {
     "name": "stdout",
     "output_type": "stream",
     "text": [
      "2.321,21\n",
      "1.987,51\n"
     ]
    }
   ],
   "source": [
    "print(dicc_emisiones2[\"co2\"][40])\n",
    "print(dicc_emisiones2[\"co2\"][120])"
   ]
  },
  {
   "cell_type": "code",
   "execution_count": 104,
   "metadata": {},
   "outputs": [],
   "source": [
    "#para calcular las emisiones para cada región necesito convertir a float esos datos\n",
    "def puntuacion(lista):\n",
    "    for indice, elemento in enumerate(lista):\n",
    "        if elemento != None:\n",
    "            elemento = elemento.replace( \".\", \"\")\n",
    "            lista[indice] = elemento.replace( \",\", \".\")\n",
    "        #print(elemento)"
   ]
  },
  {
   "cell_type": "code",
   "execution_count": 105,
   "metadata": {},
   "outputs": [],
   "source": [
    "entero(dicc_emisiones2[\"anio\"])"
   ]
  },
  {
   "cell_type": "code",
   "execution_count": 106,
   "metadata": {},
   "outputs": [],
   "source": [
    "agregar_nulos(dicc_emisiones2[\"co2\"])"
   ]
  },
  {
   "cell_type": "code",
   "execution_count": 107,
   "metadata": {},
   "outputs": [],
   "source": [
    "puntuacion(dicc_emisiones2[\"co2\"])"
   ]
  },
  {
   "cell_type": "code",
   "execution_count": 108,
   "metadata": {},
   "outputs": [
    {
     "name": "stdout",
     "output_type": "stream",
     "text": [
      "2321.21\n",
      "1987.51\n"
     ]
    }
   ],
   "source": [
    "print(dicc_emisiones2[\"co2\"][40])\n",
    "print(dicc_emisiones2[\"co2\"][120])"
   ]
  },
  {
   "cell_type": "code",
   "execution_count": 109,
   "metadata": {},
   "outputs": [],
   "source": [
    "continuo(dicc_emisiones2[\"co2\"])"
   ]
  },
  {
   "cell_type": "code",
   "execution_count": 111,
   "metadata": {},
   "outputs": [
    {
     "name": "stdout",
     "output_type": "stream",
     "text": [
      "2321.21\n",
      "1987.51\n"
     ]
    }
   ],
   "source": [
    "print(dicc_emisiones2[\"co2\"][40])\n",
    "print(dicc_emisiones2[\"co2\"][120])"
   ]
  },
  {
   "cell_type": "code",
   "execution_count": 114,
   "metadata": {},
   "outputs": [
    {
     "name": "stdout",
     "output_type": "stream",
     "text": [
      "1691634.801\n"
     ]
    }
   ],
   "source": [
    "filtro_anio = 2010\n",
    "filtro_region = \"América Latina y Caribe\"\n",
    "emisiones = 0\n",
    "for i in range(len(dicc_emisiones2[\"region\"])):\n",
    "    #se filtran los valores del diccionario que cumplen con las siguientes condiciones\n",
    "    if dicc_emisiones2[\"region\"][i] == filtro_region and dicc_emisiones2[\"anio\"][i] == filtro_anio and dicc_emisiones2[\"co2\"][i] != None:\n",
    "        emisiones += dicc_emisiones2[\"co2\"][i]\n",
    "        \n",
    "print(round(emisiones,3))        "
   ]
  }
 ],
 "metadata": {
  "kernelspec": {
   "display_name": "Python 3",
   "language": "python",
   "name": "python3"
  },
  "language_info": {
   "codemirror_mode": {
    "name": "ipython",
    "version": 3
   },
   "file_extension": ".py",
   "mimetype": "text/x-python",
   "name": "python",
   "nbconvert_exporter": "python",
   "pygments_lexer": "ipython3",
   "version": "3.10.6"
  },
  "orig_nbformat": 4,
  "vscode": {
   "interpreter": {
    "hash": "e3449e78b622b499c4f9a823e829fe6a616fd6890b59f6c67d5ce505c45100f8"
   }
  }
 },
 "nbformat": 4,
 "nbformat_minor": 2
}
