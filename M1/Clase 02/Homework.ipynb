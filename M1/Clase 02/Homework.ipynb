{
 "cells": [
  {
   "cell_type": "markdown",
   "metadata": {},
   "source": [
    "# Práctica Clase 2"
   ]
  },
  {
   "cell_type": "markdown",
   "metadata": {},
   "source": [
    "1) Abrir el archivo \"Emisiones_CO2.csv\" y cargar sus datos en un diccionario."
   ]
  },
  {
   "cell_type": "code",
   "execution_count": 68,
   "metadata": {},
   "outputs": [],
   "source": [
    "import os\n",
    "#la función built-in \"open\" devuelve un objeto de tipo archivo \"TextIOWrapper\"\n",
    "archivo = open('Emisiones_CO2.csv', 'r', encoding=\"ANSI\")"
   ]
  },
  {
   "cell_type": "code",
   "execution_count": 69,
   "metadata": {},
   "outputs": [
    {
     "data": {
      "text/plain": [
       "_io.TextIOWrapper"
      ]
     },
     "execution_count": 69,
     "metadata": {},
     "output_type": "execute_result"
    }
   ],
   "source": [
    "type(archivo)"
   ]
  },
  {
   "cell_type": "code",
   "execution_count": 29,
   "metadata": {},
   "outputs": [],
   "source": [
    "#usando el atributo read devuelve el contenido del archivo\n",
    "archivo.read()\n",
    "#como cualquier otro archivo, hay que cerrarlo una vez que terminas de usarlo\n",
    "archivo.close()"
   ]
  },
  {
   "cell_type": "code",
   "execution_count": 70,
   "metadata": {},
   "outputs": [
    {
     "name": "stdout",
     "output_type": "stream",
     "text": [
      "['_CHUNK_SIZE', '__class__', '__del__', '__delattr__', '__dict__', '__dir__', '__doc__', '__enter__', '__eq__', '__exit__', '__format__', '__ge__', '__getattribute__', '__gt__', '__hash__', '__init__', '__init_subclass__', '__iter__', '__le__', '__lt__', '__ne__', '__new__', '__next__', '__reduce__', '__reduce_ex__', '__repr__', '__setattr__', '__sizeof__', '__str__', '__subclasshook__', '_checkClosed', '_checkReadable', '_checkSeekable', '_checkWritable', '_finalizing', 'buffer', 'close', 'closed', 'detach', 'encoding', 'errors', 'fileno', 'flush', 'isatty', 'line_buffering', 'mode', 'name', 'newlines', 'read', 'readable', 'readline', 'readlines', 'reconfigure', 'seek', 'seekable', 'tell', 'truncate', 'writable', 'write', 'write_through', 'writelines']\n"
     ]
    }
   ],
   "source": [
    "print(dir(archivo))"
   ]
  },
  {
   "attachments": {},
   "cell_type": "markdown",
   "metadata": {},
   "source": [
    "### Primera opción"
   ]
  },
  {
   "cell_type": "code",
   "execution_count": 52,
   "metadata": {},
   "outputs": [],
   "source": [
    "#se crean las listas que se usaran para guardar cada registro\n",
    "cod_pais = []\n",
    "nom_pais = [] \n",
    "region = []\n",
    "anio = []\n",
    "co2 = []\n",
    "co2_percapita = []"
   ]
  },
  {
   "cell_type": "code",
   "execution_count": null,
   "metadata": {},
   "outputs": [],
   "source": [
    "for line in archivo:\n",
    "    #print(line)\n",
    "    line = line.strip()\n",
    "    reg = line.split('|')\n",
    "    cod_pais.append(reg[0])\n",
    "    nom_pais.append(reg[1])\n",
    "    region.append(reg[2])\n",
    "    anio.append(reg[3])\n",
    "    co2.append(reg[4])\n",
    "    co2_percapita.append(reg[5])\n",
    "    print(reg)\n"
   ]
  },
  {
   "cell_type": "code",
   "execution_count": 57,
   "metadata": {},
   "outputs": [],
   "source": [
    "dicc_emisiones = {  'cod_pais' : [cod_pais],\n",
    "                    'nom_pais' : [nom_pais],\n",
    "                    'region' : [region],\n",
    "                    'anio' : [anio],\n",
    "                    'co2' : [co2],\n",
    "                    'co2_percapita' : [co2_percapita]}"
   ]
  },
  {
   "cell_type": "code",
   "execution_count": null,
   "metadata": {},
   "outputs": [],
   "source": [
    "print(dicc_emisiones)"
   ]
  },
  {
   "attachments": {},
   "cell_type": "markdown",
   "metadata": {},
   "source": [
    "### Segunda opción"
   ]
  },
  {
   "cell_type": "code",
   "execution_count": 71,
   "metadata": {},
   "outputs": [],
   "source": [
    "dicc_emisiones2 = {  'cod_pais' : [],\n",
    "                    'nom_pais' : [],\n",
    "                    'region' : [],\n",
    "                    'anio' : [],\n",
    "                    'co2' : [],\n",
    "                    'co2_percapita' : []}"
   ]
  },
  {
   "cell_type": "code",
   "execution_count": null,
   "metadata": {},
   "outputs": [],
   "source": [
    "for line in archivo:\n",
    "    #print(line)\n",
    "    line = line.strip()\n",
    "    reg = line.split('|')\n",
    "    dicc_emisiones2[\"cod_pais\"] += reg[0]\n",
    "    dicc_emisiones2[\"nom_pais\"] += reg[1]\n",
    "    dicc_emisiones2[\"region\"] += reg[2]\n",
    "    dicc_emisiones2[\"anio\"] += reg[3]\n",
    "    dicc_emisiones2[\"co2\"] += reg[4]\n",
    "    dicc_emisiones2[\"co2_percapita\"] += reg[5]\n",
    "    print(reg)\n"
   ]
  },
  {
   "cell_type": "code",
   "execution_count": null,
   "metadata": {},
   "outputs": [],
   "source": [
    "print(dicc_emisiones2)"
   ]
  },
  {
   "attachments": {},
   "cell_type": "markdown",
   "metadata": {},
   "source": [
    "2) a) ¿Cuántas variables hay? <br>\n",
    "Existen 6 variables <br>\n",
    "b) ¿Qué tipos de datos usar para cada una? <br>\n",
    "Para variables como codigo de pais, nombre de pais y región se pueden utilizar datos de tipo str <br>\n",
    "Para variables como año se utiliza enteros (int) <br>\n",
    "Para las variables de dioxido de carbono se utilizan datos de tipo decimal como float <br>\n",
    "c) ¿Qué tipo de variables son? <br>\n",
    "d) ¿Hay valores faltantes? <br>\n",
    "e) ¿Cuál es el total de emisiones de CO2 para 'América Latina y Caribe' en el año 2010?"
   ]
  }
 ],
 "metadata": {
  "kernelspec": {
   "display_name": "Python 3",
   "language": "python",
   "name": "python3"
  },
  "language_info": {
   "codemirror_mode": {
    "name": "ipython",
    "version": 3
   },
   "file_extension": ".py",
   "mimetype": "text/x-python",
   "name": "python",
   "nbconvert_exporter": "python",
   "pygments_lexer": "ipython3",
   "version": "3.10.6"
  },
  "orig_nbformat": 4,
  "vscode": {
   "interpreter": {
    "hash": "e3449e78b622b499c4f9a823e829fe6a616fd6890b59f6c67d5ce505c45100f8"
   }
  }
 },
 "nbformat": 4,
 "nbformat_minor": 2
}
