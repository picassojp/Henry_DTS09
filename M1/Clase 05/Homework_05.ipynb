{
 "cells": [
  {
   "cell_type": "markdown",
   "metadata": {},
   "source": [
    "# Práctica Clase 5"
   ]
  },
  {
   "cell_type": "markdown",
   "metadata": {},
   "source": [
    "1) Implementar un juego, que consista en apilar números enteros del 1 al 20, de forma aleatoria, para lo cual debe usarse una estructura de Pila. \n",
    "Luego, el usuario debe elegir un número de veces en que se va a quitar elementos de la pila, los cuales, sumados entre sí, no deben superar el valor de 50.\n",
    "El usuario pierde si la suma supera ese valor. Si no lo supera, gana, pero su calificación será 10 menos el número elementos que falten quitar para todavía no superar 50.\n",
    "El programa debe informar si perdió, y si ganó, con qué calificación lo hizo.\n",
    "\n",
    "Consideraciones:<br>\n",
    "a. Se puede usar la función input() para obtener una entrada de teclado.<br>\n",
    "b. Se puede usar la el modulo random para obtener valores aleatorios."
   ]
  },
  {
   "cell_type": "code",
   "execution_count": 1,
   "metadata": {},
   "outputs": [],
   "source": [
    "import random\n",
    "import numpy as np"
   ]
  },
  {
   "cell_type": "code",
   "execution_count": 4,
   "metadata": {},
   "outputs": [],
   "source": [
    "arr = np.arange(1, 21)"
   ]
  },
  {
   "cell_type": "code",
   "execution_count": 5,
   "metadata": {},
   "outputs": [
    {
     "data": {
      "text/plain": [
       "array([ 1,  2,  3,  4,  5,  6,  7,  8,  9, 10, 11, 12, 13, 14, 15, 16, 17,\n",
       "       18, 19, 20])"
      ]
     },
     "execution_count": 5,
     "metadata": {},
     "output_type": "execute_result"
    }
   ],
   "source": [
    "arr"
   ]
  },
  {
   "cell_type": "code",
   "execution_count": 8,
   "metadata": {},
   "outputs": [],
   "source": [
    "nrand = random.choice(arr)"
   ]
  },
  {
   "cell_type": "code",
   "execution_count": 13,
   "metadata": {},
   "outputs": [],
   "source": [
    "class Pila: #por convención, utilizar mayusc en 1° letra de c/palabra\n",
    "    \"\"\" Representa una pila con operaciones de apilar, desapilar y\n",
    "        verificar si está vacía. \"\"\"\n",
    "\n",
    "    def __init__(self):\n",
    "        \"\"\" Crea una pila vacía. \"\"\"\n",
    "        # La pila vacía se representa con una lista vacía\n",
    "        self.items=[]\n",
    "    def apilar(self, x):\n",
    "        \"\"\" Agrega el elemento x a la pila. \"\"\"\n",
    "        # Apilar es agregar al final de la lista.\n",
    "        self.items.append(x)\n",
    "    def desapilar(self):\n",
    "        \"\"\" Devuelve el elemento tope y lo elimina de la pila.\n",
    "        Si la pila está vacía levanta una excepción. \"\"\"\n",
    "        try:\n",
    "            return self.items.pop()\n",
    "        except IndexError:\n",
    "            raise ValueError(\"La pila está vacía\")\n",
    "    def es_vacia(self):\n",
    "        \"\"\" Devuelve True si la lista está vacía, False si no. \"\"\"\n",
    "        return self.items == []"
   ]
  },
  {
   "cell_type": "code",
   "execution_count": 14,
   "metadata": {},
   "outputs": [],
   "source": [
    "p = Pila()"
   ]
  },
  {
   "cell_type": "code",
   "execution_count": 15,
   "metadata": {},
   "outputs": [],
   "source": [
    "p.apilar(nrand)"
   ]
  },
  {
   "cell_type": "code",
   "execution_count": 19,
   "metadata": {},
   "outputs": [
    {
     "data": {
      "text/plain": [
       "[3]"
      ]
     },
     "execution_count": 19,
     "metadata": {},
     "output_type": "execute_result"
    }
   ],
   "source": [
    "p.items"
   ]
  },
  {
   "cell_type": "code",
   "execution_count": 10,
   "metadata": {},
   "outputs": [
    {
     "data": {
      "text/plain": [
       "array([ 1,  2,  4,  5,  6,  7,  8,  9, 10, 11, 12, 13, 14, 15, 16, 17, 18,\n",
       "       19, 20])"
      ]
     },
     "execution_count": 10,
     "metadata": {},
     "output_type": "execute_result"
    }
   ],
   "source": [
    "np.delete(arr, np.where(arr == nrand))"
   ]
  },
  {
   "cell_type": "code",
   "execution_count": null,
   "metadata": {},
   "outputs": [],
   "source": [
    "arr = np.arange(1, 21)\n",
    "while arr is not []:\n",
    "    nrand = random.choice(arr)\n",
    "    np.delete(arr, np.where(arr == nrand))"
   ]
  },
  {
   "attachments": {},
   "cell_type": "markdown",
   "metadata": {},
   "source": [
    "## resolución con docente"
   ]
  },
  {
   "cell_type": "code",
   "execution_count": 44,
   "metadata": {},
   "outputs": [],
   "source": [
    "import random as r\n",
    "class JuegoPila:\n",
    "    def __init__(self):\n",
    "        #1° opción\n",
    "        #self.__lista = [] #utilizar la \"__\" permite encapsular \"lista\", no se puede acceder fuera de la clase\n",
    "        #while len(self.__lista) < 20:\n",
    "        #    numero = r.randint(1, 20)\n",
    "        #    if numero not in self.__lista: self.__lista.append(numero)\n",
    "        #2° opción\n",
    "        self.__lista = r.sample(range(1, 21), 20)\n",
    "        #print(self.__lista)\n",
    "        \n",
    "        \"\"\"quitar un elemento\"\"\"\n",
    "    def __pop(self):\n",
    "        return self.__lista.pop()\n",
    "        \n",
    "    def __mos(self):\n",
    "        print(self.__lista)\n",
    "        \n",
    "    \"\"\"se define el juego\"\"\"\n",
    "    def jugar(self):\n",
    "        #cant_quitar = int(input(\"Ingrese la cantidad de números a remover: \")) #el problema con esto es que el usuario puede ingresar un str o float y da error\n",
    "        cant_quitar = input(\"Ingrese la cantidad de números a remover: \")\n",
    "        while not cant_quitar.isdecimal() or int(cant_quitar) > 20:\n",
    "            cant_quitar = input(\"Ingrese la cantidad de números a remover nuevamente (debe ser un número entero entre 1 y 20): \")\n",
    "        cant_elementos_quitar = int(cant_quitar)\n",
    "        print(\"Pila original: \")\n",
    "        self.__mos()\n",
    "        print(\"Cantidad de elementos a quitar: \", cant_elementos_quitar)\n",
    "        \n",
    "        calificacion = 10\n",
    "        suma = 0\n",
    "        for i in range(cant_elementos_quitar):\n",
    "            suma += self.__pop()\n",
    "        print(\"La suma de los valores es: \", suma)    \n",
    "        if suma > 50:\n",
    "            print(\"Has perdido. Te pasaste del valor 50 :(\")\n",
    "        else:\n",
    "            while suma <= 50:\n",
    "                suma += self.__pop()\n",
    "                if suma <= 50: calificacion -= 1\n",
    "            print(\"Lo lograste! Tu calificación es: \", calificacion)"
   ]
  },
  {
   "cell_type": "code",
   "execution_count": 47,
   "metadata": {},
   "outputs": [
    {
     "name": "stdout",
     "output_type": "stream",
     "text": [
      "Pila original: \n",
      "[4, 20, 17, 8, 9, 11, 7, 5, 3, 6, 18, 12, 15, 14, 16, 2, 19, 1, 10, 13]\n",
      "Cantidad de elementos a quitar:  5\n",
      "La suma de los valores es:  45\n",
      "Lo lograste! Tu calificación es:  10\n"
     ]
    }
   ],
   "source": [
    "pila = JuegoPila()\n",
    "pila.jugar()"
   ]
  },
  {
   "cell_type": "markdown",
   "metadata": {},
   "source": [
    "2) Implementar un juego donde constas de 2 jarras, de capacidad 5 y 3 litros respectivamente, y debes colocar 4 litros en la jarra de 5L.\n",
    "Las opciones posibles son:\n",
    "* Llenar la jarra de 3 litros\n",
    "* Llenar la jarra de 5 litros\n",
    "* Vaciar la jarra de 3 litros\n",
    "* Vaciar la jarra de 5 litros\n",
    "* Verter el contenido de la jarra de 3 litros en la de 5 litros\n",
    "* Verter el contenido de la jarra de 5 litros en la de 3 litros"
   ]
  },
  {
   "cell_type": "code",
   "execution_count": null,
   "metadata": {},
   "outputs": [],
   "source": []
  }
 ],
 "metadata": {
  "kernelspec": {
   "display_name": "Python 3",
   "language": "python",
   "name": "python3"
  },
  "language_info": {
   "codemirror_mode": {
    "name": "ipython",
    "version": 3
   },
   "file_extension": ".py",
   "mimetype": "text/x-python",
   "name": "python",
   "nbconvert_exporter": "python",
   "pygments_lexer": "ipython3",
   "version": "3.10.6"
  },
  "vscode": {
   "interpreter": {
    "hash": "e3449e78b622b499c4f9a823e829fe6a616fd6890b59f6c67d5ce505c45100f8"
   }
  }
 },
 "nbformat": 4,
 "nbformat_minor": 4
}
