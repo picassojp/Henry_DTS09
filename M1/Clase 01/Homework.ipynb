{
 "cells": [
  {
   "cell_type": "markdown",
   "metadata": {},
   "source": [
    "# Práctica Clase 1 "
   ]
  },
  {
   "cell_type": "markdown",
   "metadata": {},
   "source": [
    "1) Crear una función capaz de convertir números enteros de base 10 a base 2. Debe recibir como parámetro el número a convertir<br>\n",
    "Consideraciones:<br> \n",
    "a. Tratar de resolverlo sin usar la función format(nro,\"b\")<br>\n",
    "b. El pdf \"conversion-de-decimal-a-binario.pdf\" puede servir de ayuda.\n"
   ]
  },
  {
   "cell_type": "code",
   "execution_count": 29,
   "metadata": {},
   "outputs": [],
   "source": [
    "def NumeroBinario(numero):\n",
    "    '''\n",
    "    Esta función recibe como parámetro un número entero mayor ó igual a cero y lo devuelve en su \n",
    "    representación binaria. Debe recibir y devolver un valor de tipo entero.\n",
    "    En caso de que el parámetro no sea de tipo entero y mayor a -1 retorna nulo.\n",
    "    '''\n",
    "    bin = 0\n",
    "    c = 0\n",
    "    if type(numero) is not int:\n",
    "        return None\n",
    "    elif numero < 0:\n",
    "        return None\n",
    "    while numero >= 1:\n",
    "        resto = numero %2\n",
    "        print(resto)\n",
    "        if resto == 1:\n",
    "            bin = bin+10**c\n",
    "        #if resto == 0:\n",
    "         #   bin = \n",
    "        numero = numero//2\n",
    "        print(numero)\n",
    "        c += 1\n",
    "    return bin\n"
   ]
  },
  {
   "cell_type": "code",
   "execution_count": 32,
   "metadata": {},
   "outputs": [],
   "source": [
    "NumeroBinario(1.5)"
   ]
  },
  {
   "cell_type": "code",
   "execution_count": 22,
   "metadata": {},
   "outputs": [
    {
     "name": "stdout",
     "output_type": "stream",
     "text": [
      "1\n",
      "14\n",
      "0\n",
      "7\n",
      "1\n",
      "3\n",
      "1\n",
      "1\n",
      "1\n",
      "0\n"
     ]
    },
    {
     "data": {
      "text/plain": [
       "11101"
      ]
     },
     "execution_count": 22,
     "metadata": {},
     "output_type": "execute_result"
    }
   ],
   "source": [
    "NumeroBinario(29)"
   ]
  },
  {
   "cell_type": "code",
   "execution_count": 27,
   "metadata": {},
   "outputs": [
    {
     "data": {
      "text/plain": [
       "11101"
      ]
     },
     "execution_count": 27,
     "metadata": {},
     "output_type": "execute_result"
    }
   ],
   "source": [
    "#Ejemplo:\n",
    "NumeroBinario(29)"
   ]
  },
  {
   "cell_type": "markdown",
   "metadata": {},
   "source": [
    "2) Convertir de decimal a binario las fracciones 1/2, 1/3, 1/4, 1/5, 1/6, 1/7, 1/8, 1/9. Luego analizar los resultados y observar qué particularidad se encuentra en los mismos. Se puede usar Python o una calculadora, lo importante es ver si hay algo que podemos notar..."
   ]
  },
  {
   "cell_type": "markdown",
   "metadata": {},
   "source": [
    "Salida esperada:\n",
    "* Fraccion 1 / 2 :  0.5  y En binario:  0.1\n",
    "* Fraccion 1 / 3 :  0.3333333333333333  y En binario:  0.010101010101010101010101\n",
    "* Fraccion 1 / 4 :  0.25  y En binario:  0.01\n",
    "* Fraccion 1 / 5 :  0.2  y En binario:  0.001100110011001100110011\n",
    "* Fraccion 1 / 6 :  0.16666666666666666  y En binario:  0.001010101010101010101010\n",
    "* Fraccion 1 / 7 :  0.14285714285714285  y En binario:  0.001001001001001001001001\n",
    "* Fraccion 1 / 8 :  0.125  y En binario:  0.001\n",
    "* Fraccion 1 / 9 :  0.1111111111111111  y En binario:  0.000111000111000111000111"
   ]
  },
  {
   "cell_type": "code",
   "execution_count": 105,
   "metadata": {},
   "outputs": [],
   "source": [
    "def NumeroBinario(numero):\n",
    "    \n",
    "    bin = 0.0\n",
    "    c = 0\n",
    "    #if type(numero) is not int:\n",
    "     #   return None\n",
    "    if numero < 0:\n",
    "        return None\n",
    "    elif numero < 1:\n",
    "        num_orig = numero\n",
    "        denominador = int(1/numero)\n",
    "        #print(frac)\n",
    "        c=1\n",
    "        while float(numero)-int(numero) != 0 and c < 25:\n",
    "        #while float(numero) != 0.0 and c < 20:\n",
    "            numero = numero*2\n",
    "            if numero >= 1:\n",
    "                bin = bin+1/10**c\n",
    "                print(type(bin))\n",
    "                print(c)\n",
    "                print(bin)\n",
    "                numero -= 1\n",
    "            c += 1\n",
    "            #print(c)\n",
    "        return f'Fraccion 1 / {denominador} :  {num_orig}  y En binario: {bin}'    \n",
    "    while numero >= 1:\n",
    "        resto = numero %2\n",
    "        #print(resto)\n",
    "        if resto == 1:\n",
    "            bin = bin+10**c\n",
    "        #if resto == 0:\n",
    "         #   bin = \n",
    "        numero = numero//2\n",
    "        #print(numero)\n",
    "        c += 1\n",
    "    return bin"
   ]
  },
  {
   "cell_type": "code",
   "execution_count": 87,
   "metadata": {},
   "outputs": [
    {
     "data": {
      "text/plain": [
       "'Fraccion 1 / 2 :  0.5  y En binario: 0.1'"
      ]
     },
     "execution_count": 87,
     "metadata": {},
     "output_type": "execute_result"
    }
   ],
   "source": [
    "NumeroBinario(1/2)"
   ]
  },
  {
   "cell_type": "code",
   "execution_count": 106,
   "metadata": {},
   "outputs": [
    {
     "name": "stdout",
     "output_type": "stream",
     "text": [
      "<class 'float'>\n",
      "2\n",
      "0.01\n",
      "<class 'float'>\n",
      "4\n",
      "0.0101\n",
      "<class 'float'>\n",
      "6\n",
      "0.010100999999999999\n",
      "<class 'float'>\n",
      "8\n",
      "0.010101009999999999\n",
      "<class 'float'>\n",
      "10\n",
      "0.010101010099999998\n",
      "<class 'float'>\n",
      "12\n",
      "0.010101010100999999\n",
      "<class 'float'>\n",
      "14\n",
      "0.01010101010101\n",
      "<class 'float'>\n",
      "16\n",
      "0.0101010101010101\n",
      "<class 'float'>\n",
      "18\n",
      "0.010101010101010102\n",
      "<class 'float'>\n",
      "20\n",
      "0.010101010101010102\n",
      "<class 'float'>\n",
      "22\n",
      "0.010101010101010102\n",
      "<class 'float'>\n",
      "24\n",
      "0.010101010101010102\n"
     ]
    },
    {
     "data": {
      "text/plain": [
       "'Fraccion 1 / 3 :  0.3333333333333333  y En binario: 0.010101010101010102'"
      ]
     },
     "execution_count": 106,
     "metadata": {},
     "output_type": "execute_result"
    }
   ],
   "source": [
    "NumeroBinario(1/3)"
   ]
  },
  {
   "cell_type": "code",
   "execution_count": 89,
   "metadata": {},
   "outputs": [
    {
     "data": {
      "text/plain": [
       "'Fraccion 1 / 4 :  0.25  y En binario: 0.01'"
      ]
     },
     "execution_count": 89,
     "metadata": {},
     "output_type": "execute_result"
    }
   ],
   "source": [
    "NumeroBinario(1/4)"
   ]
  },
  {
   "cell_type": "code",
   "execution_count": 90,
   "metadata": {},
   "outputs": [
    {
     "data": {
      "text/plain": [
       "'Fraccion 1 / 5 :  0.2  y En binario: 0.0011001100110011'"
      ]
     },
     "execution_count": 90,
     "metadata": {},
     "output_type": "execute_result"
    }
   ],
   "source": [
    "NumeroBinario(1/5)"
   ]
  },
  {
   "cell_type": "code",
   "execution_count": 91,
   "metadata": {},
   "outputs": [
    {
     "data": {
      "text/plain": [
       "'Fraccion 1 / 6 :  0.16666666666666666  y En binario: 0.00101010101010101'"
      ]
     },
     "execution_count": 91,
     "metadata": {},
     "output_type": "execute_result"
    }
   ],
   "source": [
    "NumeroBinario(1/6)"
   ]
  },
  {
   "cell_type": "code",
   "execution_count": 92,
   "metadata": {},
   "outputs": [
    {
     "data": {
      "text/plain": [
       "'Fraccion 1 / 7 :  0.14285714285714285  y En binario: 0.001001001001001001'"
      ]
     },
     "execution_count": 92,
     "metadata": {},
     "output_type": "execute_result"
    }
   ],
   "source": [
    "NumeroBinario(1/7)"
   ]
  },
  {
   "cell_type": "code",
   "execution_count": 93,
   "metadata": {},
   "outputs": [
    {
     "data": {
      "text/plain": [
       "'Fraccion 1 / 8 :  0.125  y En binario: 0.001'"
      ]
     },
     "execution_count": 93,
     "metadata": {},
     "output_type": "execute_result"
    }
   ],
   "source": [
    "NumeroBinario(1/8)"
   ]
  },
  {
   "cell_type": "code",
   "execution_count": 94,
   "metadata": {},
   "outputs": [
    {
     "data": {
      "text/plain": [
       "'Fraccion 1 / 9 :  0.1111111111111111  y En binario: 0.000111000111000111'"
      ]
     },
     "execution_count": 94,
     "metadata": {},
     "output_type": "execute_result"
    }
   ],
   "source": [
    "NumeroBinario(1/9)"
   ]
  }
 ],
 "metadata": {
  "kernelspec": {
   "display_name": "Python 3.10.6 64-bit",
   "language": "python",
   "name": "python3"
  },
  "language_info": {
   "codemirror_mode": {
    "name": "ipython",
    "version": 3
   },
   "file_extension": ".py",
   "mimetype": "text/x-python",
   "name": "python",
   "nbconvert_exporter": "python",
   "pygments_lexer": "ipython3",
   "version": "3.10.6"
  },
  "orig_nbformat": 4,
  "vscode": {
   "interpreter": {
    "hash": "e3449e78b622b499c4f9a823e829fe6a616fd6890b59f6c67d5ce505c45100f8"
   }
  }
 },
 "nbformat": 4,
 "nbformat_minor": 2
}
